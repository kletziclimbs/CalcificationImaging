{
 "cells": [
  {
   "cell_type": "code",
   "execution_count": 1,
   "metadata": {},
   "outputs": [],
   "source": [
    "import seaborn as sns\n",
    "from pathlib import Path\n",
    "import os\n",
    "import numpy as np # linear algebra\n",
    "import pandas as pd # data processing, CSV file I/O (e.g. pd.read_csv)\n",
    "import glob\n",
    "from skimage.io import imread\n",
    "import matplotlib.pyplot as plt\n",
    "%matplotlib inline"
   ]
  },
  {
   "cell_type": "markdown",
   "metadata": {},
   "source": [
    "# Initialize and import channel images"
   ]
  },
  {
   "cell_type": "code",
   "execution_count": 2,
   "metadata": {},
   "outputs": [
    {
     "name": "stdout",
     "output_type": "stream",
     "text": [
      "Current directory: /Users/anna/Documents/PhD/CalcificationImaging/ImageAnalysis\n",
      "Home directory: /Users/anna\n"
     ]
    }
   ],
   "source": [
    "#info about directory\n",
    "print(f\"Current directory: {Path.cwd()}\")\n",
    "print(f\"Home directory: {Path.home()}\")"
   ]
  },
  {
   "cell_type": "code",
   "execution_count": 4,
   "metadata": {},
   "outputs": [],
   "source": [
    "##importing 3 seperate channel images into dataframe\n",
    "\n",
    "\n",
    "os.chdir(r\"/Users/anna/Documents/PhD/CalcificationImaging/ImagingData/CaPConcRange01/20x_tiff/\")#direct to image dir\n",
    "img_dir = Path('')\n",
    "\n",
    "img_df = pd.DataFrame({'path': list(img_dir.glob('C3*.tif'))})#3 channel fluorescence image split \n",
    "#into 3 seperate tif files, C1-channel1; filenameparts seperated by '-';\n",
    "img_df['base'] = img_df['path'].map(lambda c_path: c_path.as_posix())#convert path to string\n",
    "img_df['exp_num'] =img_df['base'].apply(lambda base:base.split('-')[1:3])#experiment code of lif file\n",
    "img_df['cond'] =img_df['base'].apply(lambda base:base.split('-')[3])#sample condition\n",
    "img_df['Brightfield'] = img_df['path'].map(\n",
    "        lambda c_path: imread(c_path))#read in channel 1\n",
    "\n",
    "img_df['Hoechst'] = img_df['cond'].apply(lambda cond: imread('C4-20200131_RPTEC-CaP_concRange01.lif -{}'.format(cond)))#read in Hoechst channel \n",
    "img_df['CellMask'] = img_df['cond'].apply(lambda cond: imread('C5-20200131_RPTEC-CaP_concRange01.lif -{}'.format(cond)))#read in CellMaSK channel \n",
    "img_df['EthD'] = img_df['cond'].apply(lambda cond: imread('C2-20200131_RPTEC-CaP_concRange01.lif -{}'.format(cond)))#read in EthD channel\n",
    "img_df['Calcein'] = img_df['cond'].apply(lambda cond: imread('C1-20200131_RPTEC-CaP_concRange01.lif -{}'.format(cond)))#read in Hoechst channel #read in EthD channel"
   ]
  },
  {
   "cell_type": "markdown",
   "metadata": {},
   "source": [
    "# !! adapt cond_short dependending on cond: check head of df if correct"
   ]
  },
  {
   "cell_type": "code",
   "execution_count": 5,
   "metadata": {},
   "outputs": [
    {
     "data": {
      "text/plain": [
       "'c01'"
      ]
     },
     "execution_count": 5,
     "metadata": {},
     "output_type": "execute_result"
    }
   ],
   "source": [
    "img_df['cond'].iloc[0][5:8]"
   ]
  },
  {
   "cell_type": "code",
   "execution_count": 7,
   "metadata": {},
   "outputs": [
    {
     "data": {
      "text/html": [
       "<div>\n",
       "<style scoped>\n",
       "    .dataframe tbody tr th:only-of-type {\n",
       "        vertical-align: middle;\n",
       "    }\n",
       "\n",
       "    .dataframe tbody tr th {\n",
       "        vertical-align: top;\n",
       "    }\n",
       "\n",
       "    .dataframe thead th {\n",
       "        text-align: right;\n",
       "    }\n",
       "</style>\n",
       "<table border=\"1\" class=\"dataframe\">\n",
       "  <thead>\n",
       "    <tr style=\"text-align: right;\">\n",
       "      <th></th>\n",
       "      <th>level_0</th>\n",
       "      <th>index</th>\n",
       "      <th>path</th>\n",
       "      <th>base</th>\n",
       "      <th>exp_num</th>\n",
       "      <th>cond</th>\n",
       "      <th>Brightfield</th>\n",
       "      <th>Hoechst</th>\n",
       "      <th>CellMask</th>\n",
       "      <th>EthD</th>\n",
       "      <th>Calcein</th>\n",
       "      <th>cond_short</th>\n",
       "    </tr>\n",
       "  </thead>\n",
       "  <tbody>\n",
       "    <tr>\n",
       "      <td>0</td>\n",
       "      <td>0</td>\n",
       "      <td>9</td>\n",
       "      <td>C3-20200131_RPTEC-CaP_concRange01.lif - 20x_c0...</td>\n",
       "      <td>C3-20200131_RPTEC-CaP_concRange01.lif - 20x_c0...</td>\n",
       "      <td>[20200131_RPTEC, CaP_concRange01.lif ]</td>\n",
       "      <td>20x_c00_w1_01.tif</td>\n",
       "      <td>[[64, 65, 64, 65, 63, 64, 65, 64, 64, 64, 61, ...</td>\n",
       "      <td>[[55, 58, 62, 58, 60, 61, 64, 66, 67, 65, 64, ...</td>\n",
       "      <td>[[53, 55, 55, 61, 61, 58, 55, 51, 58, 53, 52, ...</td>\n",
       "      <td>[[7, 7, 6, 6, 6, 7, 7, 7, 6, 7, 6, 7, 6, 6, 6,...</td>\n",
       "      <td>[[2, 2, 3, 2, 3, 3, 2, 3, 3, 2, 3, 3, 1, 2, 2,...</td>\n",
       "      <td>c00</td>\n",
       "    </tr>\n",
       "    <tr>\n",
       "      <td>1</td>\n",
       "      <td>1</td>\n",
       "      <td>11</td>\n",
       "      <td>C3-20200131_RPTEC-CaP_concRange01.lif - 20x_c0...</td>\n",
       "      <td>C3-20200131_RPTEC-CaP_concRange01.lif - 20x_c0...</td>\n",
       "      <td>[20200131_RPTEC, CaP_concRange01.lif ]</td>\n",
       "      <td>20x_c00_w1_02.tif</td>\n",
       "      <td>[[82, 88, 87, 81, 70, 56, 45, 41, 44, 50, 57, ...</td>\n",
       "      <td>[[21, 20, 18, 18, 16, 16, 17, 15, 13, 15, 14, ...</td>\n",
       "      <td>[[44, 49, 45, 49, 48, 52, 54, 61, 58, 46, 45, ...</td>\n",
       "      <td>[[6, 7, 8, 6, 6, 7, 7, 6, 7, 7, 6, 6, 5, 7, 6,...</td>\n",
       "      <td>[[3, 3, 4, 3, 2, 3, 3, 3, 3, 2, 2, 2, 3, 3, 3,...</td>\n",
       "      <td>c00</td>\n",
       "    </tr>\n",
       "    <tr>\n",
       "      <td>2</td>\n",
       "      <td>2</td>\n",
       "      <td>14</td>\n",
       "      <td>C3-20200131_RPTEC-CaP_concRange01.lif - 20x_c0...</td>\n",
       "      <td>C3-20200131_RPTEC-CaP_concRange01.lif - 20x_c0...</td>\n",
       "      <td>[20200131_RPTEC, CaP_concRange01.lif ]</td>\n",
       "      <td>20x_c00_w1_03.tif</td>\n",
       "      <td>[[78, 77, 75, 74, 78, 78, 74, 75, 83, 84, 83, ...</td>\n",
       "      <td>[[65, 65, 63, 62, 58, 60, 55, 51, 50, 44, 37, ...</td>\n",
       "      <td>[[50, 51, 48, 47, 47, 48, 45, 49, 51, 49, 49, ...</td>\n",
       "      <td>[[7, 8, 7, 8, 8, 8, 7, 7, 7, 6, 8, 6, 6, 7, 6,...</td>\n",
       "      <td>[[3, 3, 3, 3, 2, 2, 3, 3, 3, 2, 3, 3, 2, 3, 3,...</td>\n",
       "      <td>c00</td>\n",
       "    </tr>\n",
       "    <tr>\n",
       "      <td>3</td>\n",
       "      <td>3</td>\n",
       "      <td>38</td>\n",
       "      <td>C3-20200131_RPTEC-CaP_concRange01.lif - 20x_c0...</td>\n",
       "      <td>C3-20200131_RPTEC-CaP_concRange01.lif - 20x_c0...</td>\n",
       "      <td>[20200131_RPTEC, CaP_concRange01.lif ]</td>\n",
       "      <td>20x_c00_w2_01.tif</td>\n",
       "      <td>[[121, 121, 125, 127, 128, 129, 133, 129, 124,...</td>\n",
       "      <td>[[21, 23, 23, 23, 24, 22, 23, 21, 20, 19, 20, ...</td>\n",
       "      <td>[[27, 26, 27, 27, 27, 27, 33, 30, 30, 29, 32, ...</td>\n",
       "      <td>[[5, 7, 6, 6, 5, 6, 7, 7, 6, 6, 7, 7, 5, 6, 6,...</td>\n",
       "      <td>[[3, 3, 3, 3, 3, 3, 3, 2, 3, 2, 4, 3, 3, 2, 2,...</td>\n",
       "      <td>c00</td>\n",
       "    </tr>\n",
       "    <tr>\n",
       "      <td>4</td>\n",
       "      <td>4</td>\n",
       "      <td>43</td>\n",
       "      <td>C3-20200131_RPTEC-CaP_concRange01.lif - 20x_c0...</td>\n",
       "      <td>C3-20200131_RPTEC-CaP_concRange01.lif - 20x_c0...</td>\n",
       "      <td>[20200131_RPTEC, CaP_concRange01.lif ]</td>\n",
       "      <td>20x_c00_w2_02.tif</td>\n",
       "      <td>[[123, 125, 127, 135, 138, 144, 142, 134, 129,...</td>\n",
       "      <td>[[71, 75, 80, 76, 78, 78, 75, 75, 76, 72, 69, ...</td>\n",
       "      <td>[[51, 51, 49, 48, 47, 49, 48, 47, 45, 51, 51, ...</td>\n",
       "      <td>[[8, 8, 6, 8, 8, 7, 8, 7, 7, 6, 6, 8, 7, 7, 6,...</td>\n",
       "      <td>[[2, 2, 2, 3, 3, 3, 3, 3, 3, 3, 3, 3, 4, 4, 3,...</td>\n",
       "      <td>c00</td>\n",
       "    </tr>\n",
       "  </tbody>\n",
       "</table>\n",
       "</div>"
      ],
      "text/plain": [
       "   level_0  index                                               path  \\\n",
       "0        0      9  C3-20200131_RPTEC-CaP_concRange01.lif - 20x_c0...   \n",
       "1        1     11  C3-20200131_RPTEC-CaP_concRange01.lif - 20x_c0...   \n",
       "2        2     14  C3-20200131_RPTEC-CaP_concRange01.lif - 20x_c0...   \n",
       "3        3     38  C3-20200131_RPTEC-CaP_concRange01.lif - 20x_c0...   \n",
       "4        4     43  C3-20200131_RPTEC-CaP_concRange01.lif - 20x_c0...   \n",
       "\n",
       "                                                base  \\\n",
       "0  C3-20200131_RPTEC-CaP_concRange01.lif - 20x_c0...   \n",
       "1  C3-20200131_RPTEC-CaP_concRange01.lif - 20x_c0...   \n",
       "2  C3-20200131_RPTEC-CaP_concRange01.lif - 20x_c0...   \n",
       "3  C3-20200131_RPTEC-CaP_concRange01.lif - 20x_c0...   \n",
       "4  C3-20200131_RPTEC-CaP_concRange01.lif - 20x_c0...   \n",
       "\n",
       "                                  exp_num                cond  \\\n",
       "0  [20200131_RPTEC, CaP_concRange01.lif ]   20x_c00_w1_01.tif   \n",
       "1  [20200131_RPTEC, CaP_concRange01.lif ]   20x_c00_w1_02.tif   \n",
       "2  [20200131_RPTEC, CaP_concRange01.lif ]   20x_c00_w1_03.tif   \n",
       "3  [20200131_RPTEC, CaP_concRange01.lif ]   20x_c00_w2_01.tif   \n",
       "4  [20200131_RPTEC, CaP_concRange01.lif ]   20x_c00_w2_02.tif   \n",
       "\n",
       "                                         Brightfield  \\\n",
       "0  [[64, 65, 64, 65, 63, 64, 65, 64, 64, 64, 61, ...   \n",
       "1  [[82, 88, 87, 81, 70, 56, 45, 41, 44, 50, 57, ...   \n",
       "2  [[78, 77, 75, 74, 78, 78, 74, 75, 83, 84, 83, ...   \n",
       "3  [[121, 121, 125, 127, 128, 129, 133, 129, 124,...   \n",
       "4  [[123, 125, 127, 135, 138, 144, 142, 134, 129,...   \n",
       "\n",
       "                                             Hoechst  \\\n",
       "0  [[55, 58, 62, 58, 60, 61, 64, 66, 67, 65, 64, ...   \n",
       "1  [[21, 20, 18, 18, 16, 16, 17, 15, 13, 15, 14, ...   \n",
       "2  [[65, 65, 63, 62, 58, 60, 55, 51, 50, 44, 37, ...   \n",
       "3  [[21, 23, 23, 23, 24, 22, 23, 21, 20, 19, 20, ...   \n",
       "4  [[71, 75, 80, 76, 78, 78, 75, 75, 76, 72, 69, ...   \n",
       "\n",
       "                                            CellMask  \\\n",
       "0  [[53, 55, 55, 61, 61, 58, 55, 51, 58, 53, 52, ...   \n",
       "1  [[44, 49, 45, 49, 48, 52, 54, 61, 58, 46, 45, ...   \n",
       "2  [[50, 51, 48, 47, 47, 48, 45, 49, 51, 49, 49, ...   \n",
       "3  [[27, 26, 27, 27, 27, 27, 33, 30, 30, 29, 32, ...   \n",
       "4  [[51, 51, 49, 48, 47, 49, 48, 47, 45, 51, 51, ...   \n",
       "\n",
       "                                                EthD  \\\n",
       "0  [[7, 7, 6, 6, 6, 7, 7, 7, 6, 7, 6, 7, 6, 6, 6,...   \n",
       "1  [[6, 7, 8, 6, 6, 7, 7, 6, 7, 7, 6, 6, 5, 7, 6,...   \n",
       "2  [[7, 8, 7, 8, 8, 8, 7, 7, 7, 6, 8, 6, 6, 7, 6,...   \n",
       "3  [[5, 7, 6, 6, 5, 6, 7, 7, 6, 6, 7, 7, 5, 6, 6,...   \n",
       "4  [[8, 8, 6, 8, 8, 7, 8, 7, 7, 6, 6, 8, 7, 7, 6,...   \n",
       "\n",
       "                                             Calcein cond_short  \n",
       "0  [[2, 2, 3, 2, 3, 3, 2, 3, 3, 2, 3, 3, 1, 2, 2,...        c00  \n",
       "1  [[3, 3, 4, 3, 2, 3, 3, 3, 3, 2, 2, 2, 3, 3, 3,...        c00  \n",
       "2  [[3, 3, 3, 3, 2, 2, 3, 3, 3, 2, 3, 3, 2, 3, 3,...        c00  \n",
       "3  [[3, 3, 3, 3, 3, 3, 3, 2, 3, 2, 4, 3, 3, 2, 2,...        c00  \n",
       "4  [[2, 2, 2, 3, 3, 3, 3, 3, 3, 3, 3, 3, 4, 4, 3,...        c00  "
      ]
     },
     "execution_count": 7,
     "metadata": {},
     "output_type": "execute_result"
    }
   ],
   "source": [
    "##sort dataframe by condition column\n",
    "#img_df['cond_short']=img_df['cond'].apply(lambda str:str[1:4])\n",
    "img_df['cond_short']=img_df['cond'].apply(lambda str:str[5:8])\n",
    "img_df.sort_values(by='cond',axis=0,inplace=True)\n",
    "img_df.reset_index(inplace=True)\n",
    "img_df.head()"
   ]
  },
  {
   "cell_type": "markdown",
   "metadata": {},
   "source": [
    "# Hoechst: count cells"
   ]
  },
  {
   "cell_type": "code",
   "execution_count": 8,
   "metadata": {},
   "outputs": [
    {
     "name": "stderr",
     "output_type": "stream",
     "text": [
      "/Users/anna/opt/anaconda3/lib/python3.7/site-packages/pandas/core/indexing.py:205: SettingWithCopyWarning: \n",
      "A value is trying to be set on a copy of a slice from a DataFrame\n",
      "\n",
      "See the caveats in the documentation: http://pandas.pydata.org/pandas-docs/stable/user_guide/indexing.html#returning-a-view-versus-a-copy\n",
      "  self._setitem_with_indexer(indexer, value)\n"
     ]
    }
   ],
   "source": [
    "##Hoechst: binarize\n",
    "\n",
    "from skimage.filters import threshold_triangle\n",
    "\n",
    "img_df['hoechst_bw']=\"\" #new column in dataframe for bw img\n",
    "img_df['t_hoechst']=\"\" #new column for chosen threshold\n",
    "\n",
    "for img, (idx,_) in zip(img_df['Hoechst'], img_df.iterrows()):  \n",
    "    t=threshold_triangle(img)\n",
    "    img_df['hoechst_bw'].iloc[idx]=img>t\n",
    "    img_df['t_hoechst'].iloc[idx]=t"
   ]
  },
  {
   "cell_type": "code",
   "execution_count": 9,
   "metadata": {},
   "outputs": [],
   "source": [
    "##Hoechst segmentation and count v2-optimized\n",
    "\n",
    "from skimage.filters import threshold_local, median\n",
    "from skimage.morphology import binary_erosion,disk,watershed,dilation\n",
    "from scipy import ndimage as ndi\n",
    "from skimage.feature import peak_local_max\n",
    "\n",
    "img_df['local_maxi']=''\n",
    "\n",
    "#prepare seeds from Hoechst channel\n",
    "img_df['distance']=img_df['hoechst_bw'].apply(lambda hoechst_bw:ndi.distance_transform_edt(hoechst_bw))\n",
    "\n",
    "for (idx,_) in img_df.iterrows():\n",
    "    img_df['local_maxi'].iloc[idx]=peak_local_max(img_df['distance'].iloc[idx], indices=False, footprint=np.ones((30,30)),\n",
    "                                                  labels=img_df['hoechst_bw'].iloc[idx])\n",
    "img_df['local_maxi_extend']=img_df['local_maxi'].apply(lambda maxi: dilation(maxi,disk(3)))\n",
    "img_df['hoechst_seeds']=img_df['local_maxi_extend'].apply(lambda maxi:ndi.label(maxi)[0]) #extend local maxima to \n",
    "#avoid two seeds very close together\n",
    "\n",
    "#watershed\n",
    "img_df['hoechst_labels']=''\n",
    "img_df['hoechst_line']=''\n",
    "\n",
    "\n",
    "for (idx,_) in img_df.iterrows():\n",
    "    img_df['hoechst_labels'].iloc[idx]=watershed(-img_df['distance'].iloc[idx],img_df['hoechst_seeds'].iloc[idx],\n",
    "                                                 mask=img_df['hoechst_bw'].iloc[idx],\n",
    "                                                 watershed_line=True,compactness=200)\n",
    "    #high compactness makes nuclei in cluster more uniform\n",
    "    img_df['hoechst_line'].iloc[idx]=img_df['hoechst_labels'].iloc[idx]==0\n",
    "\n",
    "    #count    \n",
    "img_df['nuclei_count']=img_df['hoechst_labels'].apply(lambda labels:np.amax(labels))\n",
    "\n",
    "\n"
   ]
  },
  {
   "cell_type": "markdown",
   "metadata": {},
   "source": [
    "# EthD - count dead cells"
   ]
  },
  {
   "cell_type": "code",
   "execution_count": 10,
   "metadata": {},
   "outputs": [],
   "source": [
    "## EthD binarize\n",
    "\n",
    "img_df['EthD_99']=img_df['EthD'].apply(lambda int: np.percentile(int,99))\n",
    "\n",
    "t=60 #lower fixed threshold\n",
    "img_df['ethd_mask']=''\n",
    "img_df['ethd_mask_f']=''\n",
    "\n",
    "for (idx,_) in img_df.iterrows():\n",
    "    img_df['ethd_mask'].iloc[idx]=img_df['EthD'].iloc[idx]>img_df['EthD_99'].iloc[idx]\n",
    "    img_df['ethd_mask_f'].iloc[idx]=img_df['ethd_mask'].iloc[idx]*img_df['EthD'].iloc[idx]\n",
    "\n",
    "img_df['ethd_mask_bw']=img_df['ethd_mask_f'].apply(lambda img: img>t) #lower fixed threshold\n",
    "\n"
   ]
  },
  {
   "cell_type": "code",
   "execution_count": 11,
   "metadata": {},
   "outputs": [],
   "source": [
    "## EthD-watershed to seperate touching objects\n",
    "from scipy import ndimage as ndi\n",
    "\n",
    "from skimage.morphology import watershed\n",
    "from skimage.feature import peak_local_max\n",
    "from skimage.measure import regionprops\n",
    "\n",
    "Tarea=20 #filter for small noise\n",
    "img_df['ethd_distance']=img_df['ethd_mask_bw'].apply(lambda mask: ndi.distance_transform_edt(mask))\n",
    "#greyscale distance or binary distance?\n",
    "\n",
    "img_df['ethd_local_maxi']=''\n",
    "img_df['ethd_labels']=''\n",
    "img_df['ethd_areas']=np.empty((len(img_df), 0)).tolist()\n",
    "img_df['ethd_areasFilter']=np.empty((len(img_df), 0)).tolist()\n",
    "img_df['ethd_props']=''\n",
    "img_df['ethd_count']=''\n",
    "\n",
    "for (idx,_) in img_df.iterrows():\n",
    "    img_df['ethd_local_maxi'].iloc[idx]=peak_local_max(img_df['ethd_distance'].iloc[idx],indices=False,\n",
    "                                                  footprint=np.ones((20,20)),labels=img_df['ethd_mask_bw'].iloc[idx])\n",
    "\n",
    "img_df['ethd_maxi_extend']=img_df['ethd_local_maxi'].apply(lambda maxi: dilation(maxi,disk(5)))\n",
    "img_df['ethd_seeds']=img_df['ethd_local_maxi'].apply(lambda maxi:ndi.label(maxi)[0]) #extend local maxima to \n",
    "#avoid two seeds very close together\n",
    "\n",
    "\n",
    "\n",
    "for (idx,_) in img_df.iterrows():\n",
    "    img_df['ethd_labels'].iloc[idx]=watershed(-img_df['ethd_distance'].iloc[idx],img_df['ethd_seeds'].iloc[idx],\\\n",
    "                                         mask=img_df['ethd_mask_bw'].iloc[idx])\n",
    "    img_df['ethd_props'].iloc[idx]=regionprops(img_df['ethd_labels'].iloc[idx])\n",
    "    for p in img_df['ethd_props'].iloc[idx]:\n",
    "        img_df['ethd_areas'].iloc[idx].append(p.area)\n",
    "\n",
    "    img_df['ethd_areasFilter'].iloc[idx]=(list(filter(lambda ele:ele>Tarea, img_df['ethd_areas'].iloc[idx]))) #upper threshold for patch area\n",
    "    img_df['ethd_count'].iloc[idx]=len(img_df['ethd_areasFilter'].iloc[idx])\n",
    "\n"
   ]
  },
  {
   "cell_type": "markdown",
   "metadata": {},
   "source": [
    "# cellmask channel - single cell segmentation"
   ]
  },
  {
   "cell_type": "code",
   "execution_count": 12,
   "metadata": {},
   "outputs": [],
   "source": [
    "##adaptive thresholding of cellmask channel\n",
    "from skimage.morphology import medial_axis\n",
    "\n",
    "block_size = 35\n",
    "img_df['adaptiveT']=img_df['CellMask'].apply(lambda cellmask:threshold_local(cellmask, block_size))\n",
    "\n",
    "\n",
    "img_df['cellmask_adp']=''\n",
    "\n",
    "for (idx,_) in img_df.iterrows():\n",
    "    \n",
    "    img_df['cellmask_adp'].iloc[idx]=img_df['CellMask'].iloc[idx]> img_df['adaptiveT'].iloc[idx] \n",
    "#median filtering and erosion of thresholded cellmask img\n",
    "img_df['cellmask_med']=img_df['cellmask_adp'].apply(lambda cellmask_adp: median(cellmask_adp,disk(5)))\n",
    "img_df['cellmask_eros']=img_df['cellmask_med'].apply(lambda cellmask_med:binary_erosion(cellmask_med))\n",
    "\n",
    "img_df['cellmask_skeleton']=img_df['cellmask_eros'].apply(lambda img:medial_axis(img))\n",
    "img_df['distance_eros']=img_df['cellmask_eros'].apply(lambda img:ndi.distance_transform_edt(img))\n",
    "\n"
   ]
  },
  {
   "cell_type": "code",
   "execution_count": 13,
   "metadata": {},
   "outputs": [],
   "source": [
    "##cellmask-watershed (alternative 1): distance of binary erosion of cellmask; seeds of Hoechst channel\n",
    "img_df['cellmask_labels']=''\n",
    "img_df['cellmask_line']=''\n",
    "\n",
    "for (idx,_) in img_df.iterrows():\n",
    "    img_df['cellmask_labels'].iloc[idx]=watershed(img_df['distance_eros'].iloc[idx],\n",
    "                                                  img_df['hoechst_seeds'].iloc[idx], watershed_line=True)\n",
    "    img_df['cellmask_line'].iloc[idx]=img_df['cellmask_labels'].iloc[idx]==0"
   ]
  },
  {
   "cell_type": "markdown",
   "metadata": {},
   "source": [
    "## correlation between calcein and cellmask channels"
   ]
  },
  {
   "cell_type": "code",
   "execution_count": 14,
   "metadata": {},
   "outputs": [],
   "source": [
    "##compute ssim and difference image\n",
    "from skimage.measure import compare_ssim\n",
    "\n",
    "img_df['ssim_cm']=''\n",
    "img_df['grad_cm']=''\n",
    "\n",
    "for (idx,_) in img_df.iterrows():\n",
    "    img_df['ssim_cm'].iloc[idx],img_df['grad_cm'].iloc[idx]=compare_ssim(img_df['Calcein'].iloc[idx],\n",
    "                                                               img_df['CellMask'].iloc[idx],gradient=True)\n",
    "   "
   ]
  },
  {
   "cell_type": "markdown",
   "metadata": {},
   "source": [
    "# single cell feature extraction"
   ]
  },
  {
   "cell_type": "code",
   "execution_count": 15,
   "metadata": {},
   "outputs": [],
   "source": [
    "##new dataframe for single cell features\n",
    "singleCell_df=pd.DataFrame({'exp':img_df['exp_num'],'cond':img_df['cond'], 'cond_short':img_df['cond_short'],'CellMask':\n",
    "                            img_df['CellMask'],'cellmask_labels':img_df['cellmask_labels'], 'Calcein':img_df['Calcein'],\n",
    "                            'Hoechst':img_df['Hoechst'], 'hoechst_labels':img_df['hoechst_labels']})\n",
    "                               \n"
   ]
  },
  {
   "cell_type": "code",
   "execution_count": 16,
   "metadata": {},
   "outputs": [
    {
     "name": "stderr",
     "output_type": "stream",
     "text": [
      "/Users/anna/opt/anaconda3/lib/python3.7/site-packages/skimage/measure/_regionprops.py:250: UserWarning: regionprops and image moments (including moments, normalized moments, central moments, and inertia tensor) of 2D images will change from xy coordinates to rc coordinates in version 0.16.\n",
      "See https://scikit-image.org/docs/0.14.x/release_notes_and_installation.html#deprecations for details on how to avoid this message.\n",
      "  warn(XY_TO_RC_DEPRECATION_MESSAGE)\n",
      "/Users/anna/opt/anaconda3/lib/python3.7/site-packages/skimage/measure/_regionprops.py:260: UserWarning: regionprops and image moments (including moments, normalized moments, central moments, and inertia tensor) of 2D images will change from xy coordinates to rc coordinates in version 0.16.\n",
      "See https://scikit-image.org/docs/0.14.x/release_notes_and_installation.html#deprecations for details on how to avoid this message.\n",
      "  warn(XY_TO_RC_DEPRECATION_MESSAGE)\n"
     ]
    }
   ],
   "source": [
    "##extraxt features for single cells\n",
    "from skimage.measure import regionprops\n",
    "\n",
    "#add: totalcell and dead cell count\n",
    "singleCell_df['nuclei_count']=img_df['nuclei_count']\n",
    "singleCell_df['ethd_count']=img_df['ethd_count']\n",
    "\n",
    "\n",
    "#single cell features of cellmask channel: shape and intensity\n",
    "singleCell_df['props']=''\n",
    "singleCell_df['areas']=np.empty((len(singleCell_df), 0)).tolist()\n",
    "singleCell_df['major_axis_length']=np.empty((len(singleCell_df), 0)).tolist()\n",
    "singleCell_df['eccentricity']=np.empty((len(singleCell_df), 0)).tolist()\n",
    "singleCell_df['eulernumber']=np.empty((len(singleCell_df), 0)).tolist()\n",
    "singleCell_df['extent']=np.empty((len(singleCell_df), 0)).tolist()\n",
    "singleCell_df['maxint']=np.empty((len(singleCell_df), 0)).tolist()\n",
    "singleCell_df['meanint']=np.empty((len(singleCell_df), 0)).tolist()\n",
    "singleCell_df['minint']=np.empty((len(singleCell_df), 0)).tolist()\n",
    "singleCell_df['perimeter']=np.empty((len(singleCell_df), 0)).tolist()\n",
    "singleCell_df['solidity']=np.empty((len(singleCell_df), 0)).tolist()\n",
    "singleCell_df['inertiatensor']=np.empty((len(singleCell_df), 0)).tolist()\n",
    "singleCell_df['major_axis_length']=np.empty((len(singleCell_df), 0)).tolist()\n",
    "singleCell_df['minor_axis_length']=np.empty((len(singleCell_df), 0)).tolist()\n",
    "singleCell_df['bbox']=np.empty((len(singleCell_df), 0)).tolist()\n",
    "\n",
    "\n",
    "\n",
    "for (idx,_) in img_df.iterrows():\n",
    "    singleCell_df['props'].iloc[idx]=regionprops(singleCell_df['cellmask_labels'].iloc[idx],singleCell_df['CellMask'].iloc[idx])\n",
    "    for p in singleCell_df['props'].iloc[idx]:\n",
    "        singleCell_df['areas'].iloc[idx].append(p.area)\n",
    "        singleCell_df['eccentricity'].iloc[idx].append(p.eccentricity)\n",
    "        singleCell_df['eulernumber'].iloc[idx].append(p.euler_number)\n",
    "        singleCell_df['extent'].iloc[idx].append(p.extent)\n",
    "        singleCell_df['maxint'].iloc[idx].append(p.max_intensity)\n",
    "        singleCell_df['meanint'].iloc[idx].append(p.mean_intensity)\n",
    "        singleCell_df['minint'].iloc[idx].append(p.min_intensity)\n",
    "        singleCell_df['perimeter'].iloc[idx].append(p.perimeter)\n",
    "        singleCell_df['solidity'].iloc[idx].append(p.solidity)\n",
    "        singleCell_df['inertiatensor'].iloc[idx].append(p.inertia_tensor_eigvals)\n",
    "        singleCell_df['major_axis_length'].iloc[idx].append(p.major_axis_length)\n",
    "        singleCell_df['minor_axis_length'].iloc[idx].append(p.minor_axis_length)\n",
    "        singleCell_df['bbox'].iloc[idx].append(p.bbox)\n",
    "       "
   ]
  },
  {
   "cell_type": "code",
   "execution_count": 17,
   "metadata": {},
   "outputs": [],
   "source": [
    "#single cell features of hoechst channel: shape \n",
    "singleCell_df['props_hoechst']=''\n",
    "singleCell_df['areas_hoechst']=np.empty((len(singleCell_df), 0)).tolist()\n",
    "singleCell_df['major_axis_length_hoechst']=np.empty((len(singleCell_df), 0)).tolist()\n",
    "singleCell_df['eccentricity_hoechst']=np.empty((len(singleCell_df), 0)).tolist()\n",
    "singleCell_df['eulernumber_hoechst']=np.empty((len(singleCell_df), 0)).tolist()\n",
    "singleCell_df['extent_hoechst']=np.empty((len(singleCell_df), 0)).tolist()\n",
    "singleCell_df['perimeter_hoechst']=np.empty((len(singleCell_df), 0)).tolist()\n",
    "singleCell_df['solidity_hoechst']=np.empty((len(singleCell_df), 0)).tolist()\n",
    "singleCell_df['inertiatensor_hoechst']=np.empty((len(singleCell_df), 0)).tolist()\n",
    "singleCell_df['major_axis_length_hoechst']=np.empty((len(singleCell_df), 0)).tolist()\n",
    "singleCell_df['minor_axis_length_hoechst']=np.empty((len(singleCell_df), 0)).tolist()\n",
    "singleCell_df['bbox_hoechst']=np.empty((len(singleCell_df), 0)).tolist()\n",
    "\n",
    "for (idx,_) in img_df.iterrows():\n",
    "    singleCell_df['props_hoechst'].iloc[idx]=regionprops(singleCell_df['hoechst_labels'].iloc[idx])\n",
    "    for p in singleCell_df['props_hoechst'].iloc[idx]:\n",
    "        singleCell_df['areas_hoechst'].iloc[idx].append(p.area)\n",
    "        singleCell_df['eccentricity_hoechst'].iloc[idx].append(p.eccentricity)\n",
    "        singleCell_df['eulernumber_hoechst'].iloc[idx].append(p.euler_number)\n",
    "        singleCell_df['extent_hoechst'].iloc[idx].append(p.extent)\n",
    "        singleCell_df['perimeter_hoechst'].iloc[idx].append(p.perimeter)\n",
    "        singleCell_df['solidity_hoechst'].iloc[idx].append(p.solidity)\n",
    "        singleCell_df['inertiatensor_hoechst'].iloc[idx].append(p.inertia_tensor_eigvals)\n",
    "        singleCell_df['major_axis_length_hoechst'].iloc[idx].append(p.major_axis_length)\n",
    "        #singleCell_df['minor_axis_length_hoechst'].iloc[idx].append(p.minor_axis_length)\n",
    "        #singleCell_df['bbox_hoechst'].iloc[idx].append(p.bbox)\n",
    "\n",
    "\n"
   ]
  },
  {
   "cell_type": "code",
   "execution_count": 18,
   "metadata": {},
   "outputs": [],
   "source": [
    "## new df for median feature vectors\n",
    "singleCellMedian_df=''\n",
    "singleCellMedian_df=singleCell_df.copy()\n",
    "\n",
    "singleCellMedian_df.drop(['exp','cond_short','CellMask','cellmask_labels', 'Calcein', 'Hoechst', 'hoechst_labels', \n",
    "                       'props','props_hoechst','bbox','inertiatensor','inertiatensor_hoechst'],axis=1,inplace=True)\n",
    "singleCellMedian_df.set_index('cond',inplace=True)\n",
    "\n",
    "\n"
   ]
  },
  {
   "cell_type": "code",
   "execution_count": 19,
   "metadata": {},
   "outputs": [
    {
     "name": "stderr",
     "output_type": "stream",
     "text": [
      "/Users/anna/opt/anaconda3/lib/python3.7/site-packages/numpy/core/fromnumeric.py:3257: RuntimeWarning: Mean of empty slice.\n",
      "  out=out, **kwargs)\n"
     ]
    }
   ],
   "source": [
    "##median values/img of features\n",
    "for (c,_) in singleCellMedian_df.iteritems():\n",
    "    singleCellMedian_df[c]=singleCellMedian_df[c].apply(lambda x: np.median(x))\n",
    "\n"
   ]
  },
  {
   "cell_type": "markdown",
   "metadata": {},
   "source": [
    "# calcein binarize and patch features"
   ]
  },
  {
   "cell_type": "code",
   "execution_count": 20,
   "metadata": {},
   "outputs": [],
   "source": [
    "## calcein channel features - binarize and total area\n",
    "from skimage.measure import label\n",
    "from skimage.color import label2rgb\n",
    "\n",
    "img_df['calcein_bw']=\"\" #new column in dataframe for bw img\n",
    "img_df['calcein_threshold']=\"\" #new column for chosen threshold\n",
    "\n",
    "for img, (idx,_) in zip(img_df['Calcein'], img_df.iterrows()):  \n",
    "    t=threshold_triangle(img)\n",
    "    img_df['calcein_bw'].iloc[idx]=img>t\n",
    "    img_df['calcein_threshold'].iloc[idx]=t\n",
    "\n",
    "\n",
    "img_df['calcein_area']=img_df['calcein_bw'].apply(lambda bw:bw.sum())#calculate total CaP area with sum of True px\n",
    "img_df['calcein_label']=img_df['calcein_bw'].apply(lambda x: label(x)) #label connected CaP patches\n",
    "img_df['calcein_count']=img_df['calcein_label'].apply(lambda x: np.amax(x))\n"
   ]
  },
  {
   "cell_type": "code",
   "execution_count": 21,
   "metadata": {},
   "outputs": [],
   "source": [
    "##calcein single patch features dataframe\n",
    "\n",
    "singleCalceinPatch_df=pd.DataFrame({'cond':img_df['cond'], 'exp':img_df['exp_num'], 'calcein_label':\n",
    "                                    img_df['calcein_label'],'calcein': img_df['Calcein']})"
   ]
  },
  {
   "cell_type": "code",
   "execution_count": 22,
   "metadata": {},
   "outputs": [],
   "source": [
    "##calcein single patch features dataframe: shape and intensity \n",
    "singleCalceinPatch_df['props_calcein']=''\n",
    "singleCalceinPatch_df['areas_calcein']=np.empty((len(singleCalceinPatch_df), 0)).tolist()\n",
    "singleCalceinPatch_df['eccentricity_calcein']=np.empty((len(singleCalceinPatch_df), 0)).tolist()\n",
    "singleCalceinPatch_df['eulernumber_calcein']=np.empty((len(singleCalceinPatch_df), 0)).tolist()\n",
    "singleCalceinPatch_df['extent_calcein']=np.empty((len(singleCalceinPatch_df), 0)).tolist()\n",
    "singleCalceinPatch_df['perimeter_calcein']=np.empty((len(singleCalceinPatch_df), 0)).tolist()\n",
    "singleCalceinPatch_df['solidity_calcein']=np.empty((len(singleCalceinPatch_df), 0)).tolist()\n",
    "singleCalceinPatch_df['inertiatensor_calcein']=np.empty((len(singleCalceinPatch_df), 0)).tolist()\n",
    "singleCalceinPatch_df['major_axis_length_calcein']=np.empty((len(singleCalceinPatch_df), 0)).tolist()\n",
    "singleCalceinPatch_df['minor_axis_length_calcein']=np.empty((len(singleCalceinPatch_df), 0)).tolist()\n",
    "singleCalceinPatch_df['bbox_calcein']=np.empty((len(singleCalceinPatch_df), 0)).tolist()\n",
    "singleCalceinPatch_df['min_calcein']=np.empty((len(singleCalceinPatch_df), 0)).tolist()\n",
    "singleCalceinPatch_df['max_calcein']=np.empty((len(singleCalceinPatch_df), 0)).tolist()\n",
    "singleCalceinPatch_df['mean_calcein']=np.empty((len(singleCalceinPatch_df), 0)).tolist()\n",
    "\n",
    "for (idx,_) in img_df.iterrows():\n",
    "    singleCalceinPatch_df['props_calcein'].iloc[idx]=regionprops(singleCalceinPatch_df['calcein_label'].iloc[idx],\n",
    "                                                                 singleCalceinPatch_df['calcein'].iloc[idx])\n",
    "    for p in singleCalceinPatch_df['props_calcein'].iloc[idx]:\n",
    "        singleCalceinPatch_df['areas_calcein'].iloc[idx].append(p.area)\n",
    "        singleCalceinPatch_df['eccentricity_calcein'].iloc[idx].append(p.eccentricity)\n",
    "        singleCalceinPatch_df['eulernumber_calcein'].iloc[idx].append(p.euler_number)\n",
    "        singleCalceinPatch_df['extent_calcein'].iloc[idx].append(p.extent)\n",
    "        singleCalceinPatch_df['perimeter_calcein'].iloc[idx].append(p.perimeter)\n",
    "        singleCalceinPatch_df['solidity_calcein'].iloc[idx].append(p.solidity)\n",
    "        singleCalceinPatch_df['inertiatensor_calcein'].iloc[idx].append(p.inertia_tensor_eigvals)\n",
    "        singleCalceinPatch_df['major_axis_length_calcein'].iloc[idx].append(p.major_axis_length)\n",
    "        singleCalceinPatch_df['minor_axis_length_calcein'].iloc[idx].append(p.minor_axis_length)\n",
    "        singleCalceinPatch_df['bbox_calcein'].iloc[idx].append(p.bbox)\n",
    "        singleCalceinPatch_df['max_calcein'].iloc[idx].append(p.max_intensity)\n",
    "        singleCalceinPatch_df['min_calcein'].iloc[idx].append(p.mean_intensity)\n",
    "        singleCalceinPatch_df['mean_calcein'].iloc[idx].append(p.min_intensity)\n"
   ]
  },
  {
   "cell_type": "code",
   "execution_count": 23,
   "metadata": {
    "scrolled": true
   },
   "outputs": [],
   "source": [
    "##median values of calcein patch properties\n",
    "singleCalceinPatch_df['areas_calcein_median']=singleCalceinPatch_df['areas_calcein'].apply(lambda x:np.median(x))\n",
    "singleCalceinPatch_df['eccentricity_calcein_median']=singleCalceinPatch_df['eccentricity_calcein'].apply(lambda x:np.median(x))\n",
    "singleCalceinPatch_df['eulernumber_calcein_median']=singleCalceinPatch_df['eulernumber_calcein'].apply(lambda x:np.median(x))\n",
    "singleCalceinPatch_df['extent_calcein_median']=singleCalceinPatch_df['extent_calcein'].apply(lambda x:np.median(x))\n",
    "singleCalceinPatch_df['perimeter_calcein_median']=singleCalceinPatch_df['perimeter_calcein'].apply(lambda x:np.median(x))\n",
    "singleCalceinPatch_df['solidity_calcein_median']=singleCalceinPatch_df['solidity_calcein'].apply(lambda x:np.median(x))\n",
    "#singleCalceinPatch_df['inertiatensor_calcein_median']=singleCalceinPatch_df['inertiatensor_calcein'].apply(lambda x:np.median(x))\n",
    "singleCalceinPatch_df['majoraxislength_calcein_median']=singleCalceinPatch_df['major_axis_length_calcein'].apply(lambda x:np.median(x))\n",
    "singleCalceinPatch_df['minoraxislength_calcein_median']=singleCalceinPatch_df['minor_axis_length_calcein'].apply(lambda x:np.median(x))\n",
    "#singleCalceinPatch_df['bbox_calcein_median']=singleCalceinPatch_df['bbox_calcein'].apply(lambda x:np.median(x))\n",
    "singleCalceinPatch_df['max_calcein_median']=singleCalceinPatch_df['max_calcein'].apply(lambda x:np.median(x))\n",
    "singleCalceinPatch_df['min_calcein_median']=singleCalceinPatch_df['min_calcein'].apply(lambda x:np.median(x))\n",
    "singleCalceinPatch_df['mean_calcein_median']=singleCalceinPatch_df['mean_calcein'].apply(lambda x:np.median(x))\n",
    "\n"
   ]
  },
  {
   "cell_type": "markdown",
   "metadata": {},
   "source": [
    "# calcein whole image features and median features/patch"
   ]
  },
  {
   "cell_type": "code",
   "execution_count": 24,
   "metadata": {},
   "outputs": [],
   "source": [
    "## whole image properties \n",
    "\n",
    "#new dataframe for whole image features\n",
    "imgProps_df=pd.DataFrame({'exp':img_df['exp_num'],'cond':img_df['cond'], 'cond_short':img_df['cond_short'],\n",
    "                          'Calcein':img_df['Calcein'],'calcein_bw':img_df['calcein_bw'],'brightfield':\n",
    "                          img_df['Brightfield'],'cellmask':img_df['CellMask'],'ssim_cm':img_df['ssim_cm'],\n",
    "                         'calcein_count': img_df['calcein_count']})\n",
    "                               \n",
    "##summary stats of whole image calcein channel\n",
    "imgProps_df['calcein_maxTotal']=imgProps_df['Calcein'].apply(lambda x: np.amax(x))\n",
    "imgProps_df['calcein_minTotal']=imgProps_df['Calcein'].apply(lambda x: np.amin(x))\n",
    "imgProps_df['calcein_meanTotal']=imgProps_df['Calcein'].apply(lambda x: np.mean(x))\n",
    "imgProps_df['calcein_medianTotal']=imgProps_df['Calcein'].apply(lambda x: np.median(x))\n",
    "imgProps_df['calcein_sdTotal']=imgProps_df['Calcein'].apply(lambda x: np.std(x))\n",
    "imgProps_df['calcein_areaTotal']=imgProps_df['calcein_bw'].apply(lambda bw:bw.sum())\n",
    "\n",
    "\n",
    "##median values of single calcein patch properties\n",
    "imgProps_df['calcein_singleareaMed']=singleCalceinPatch_df['areas_calcein_median']\n",
    "imgProps_df['calcein_eccentricityMed']=singleCalceinPatch_df['eccentricity_calcein_median']\n",
    "imgProps_df['calcein_eulerMed']=singleCalceinPatch_df['eulernumber_calcein_median']\n",
    "imgProps_df['calcein_extentMed']=singleCalceinPatch_df['extent_calcein_median']\n",
    "imgProps_df['calcein_perimeterMed']=singleCalceinPatch_df['perimeter_calcein_median']\n",
    "imgProps_df['calcein_solidityMed']=singleCalceinPatch_df['solidity_calcein_median']\n",
    "#imgProps_df['calcein_inertiaMed']=singleCalceinPatch_df['inertiatensor_calcein_median']\n",
    "imgProps_df['calcein_majoraxisMed']=singleCalceinPatch_df['majoraxislength_calcein_median']\n",
    "imgProps_df['calcein_minoraxiMed']=singleCalceinPatch_df['minoraxislength_calcein_median']\n",
    "#imgProps_df['calcein_bboxMed']=singleCalceinPatch_df['bbox_calcein_median']\n",
    "imgProps_df['calcein_maxintMed']=singleCalceinPatch_df['max_calcein_median']\n",
    "imgProps_df['calcein_minintMed']=singleCalceinPatch_df['min_calcein_median']\n",
    "imgProps_df['calcein_meanintMed']=singleCalceinPatch_df['mean_calcein_median']"
   ]
  },
  {
   "cell_type": "markdown",
   "metadata": {},
   "source": [
    "# whole image texture features"
   ]
  },
  {
   "cell_type": "code",
   "execution_count": 25,
   "metadata": {},
   "outputs": [],
   "source": [
    "##texture features of CellMask channel - whole image\n",
    "from skimage.feature import greycomatrix, greycoprops\n",
    "\n",
    "#greycomatrix\n",
    "imgProps_df['glcm_cellmask']=imgProps_df['cellmask'].apply(lambda glcm: greycomatrix(glcm,distances=[5],angles=[90],\n",
    "                                                                                          levels=256, symmetric=True))\n"
   ]
  },
  {
   "cell_type": "code",
   "execution_count": 26,
   "metadata": {},
   "outputs": [],
   "source": [
    "#greycoprops of cellmask whole image\n",
    "imgProps_df['contrast_cm']=imgProps_df['glcm_cellmask'].apply(lambda glcm: (greycoprops(glcm,'contrast'))[0][0])\n",
    "imgProps_df['dissimilarity_cm']=imgProps_df['glcm_cellmask'].apply(lambda glcm: (greycoprops(glcm,'dissimilarity'))[0][0])\n",
    "imgProps_df['ASM_cm']=imgProps_df['glcm_cellmask'].apply(lambda glcm: (greycoprops(glcm,'ASM'))[0][0])                                                         \n",
    "imgProps_df['energy_cm']=imgProps_df['glcm_cellmask'].apply(lambda glcm: (greycoprops(glcm,'energy'))[0][0])\n",
    "imgProps_df['correlation_cm']=imgProps_df['glcm_cellmask'].apply(lambda glcm: (greycoprops(glcm,'correlation'))[0][0])\n",
    "imgProps_df['homogeneity_cm']=imgProps_df['glcm_cellmask'].apply(lambda glcm: (greycoprops(glcm,'homogeneity'))[0][0])                                                               \n",
    "                                                           \n",
    "\n"
   ]
  },
  {
   "cell_type": "code",
   "execution_count": 27,
   "metadata": {},
   "outputs": [],
   "source": [
    "##texture features of calcein channel - whole image\n",
    "from skimage.feature import greycomatrix, greycoprops\n",
    "\n",
    "#greycomatrix\n",
    "imgProps_df['glcm_calcein']=imgProps_df['Calcein'].apply(lambda glcm: greycomatrix(glcm,distances=[5],angles=[90],\n",
    "                                                                                          levels=256, symmetric=True))\n",
    "\n",
    "imgProps_df['contrast_calcein']=imgProps_df['glcm_calcein'].apply(lambda glcm: (greycoprops(glcm,'contrast'))[0][0])\n",
    "imgProps_df['dissimilarity_calcein']=imgProps_df['glcm_calcein'].apply(lambda glcm: (greycoprops(glcm,'dissimilarity'))[0][0])\n",
    "imgProps_df['ASM_calcein']=imgProps_df['glcm_calcein'].apply(lambda glcm: (greycoprops(glcm,'ASM'))[0][0])                                                         \n",
    "imgProps_df['energy_calcein']=imgProps_df['glcm_calcein'].apply(lambda glcm: (greycoprops(glcm,'energy'))[0][0])\n",
    "imgProps_df['correlation_calcein']=imgProps_df['glcm_calcein'].apply(lambda glcm: (greycoprops(glcm,'correlation'))[0][0])\n",
    "imgProps_df['homogeneity_calcein']=imgProps_df['glcm_calcein'].apply(lambda glcm: (greycoprops(glcm,'homogeneity'))[0][0])                                                               \n",
    "                                                           \n",
    "\n",
    "\n"
   ]
  },
  {
   "cell_type": "markdown",
   "metadata": {},
   "source": [
    "# create one feature df and scale"
   ]
  },
  {
   "cell_type": "code",
   "execution_count": 28,
   "metadata": {},
   "outputs": [],
   "source": [
    "##fuse singleCell_df and imageProps_df\n",
    "singleCellMedian_df.reset_index(inplace=True)\n",
    "feature_df=pd.concat([singleCellMedian_df,imgProps_df.drop(['cond'],axis=1)],axis=1)\n",
    "feature_df.drop(['Calcein', 'calcein_bw', 'brightfield', 'cellmask','glcm_cellmask','glcm_calcein'],axis=1,inplace=True)"
   ]
  },
  {
   "cell_type": "code",
   "execution_count": 29,
   "metadata": {},
   "outputs": [
    {
     "name": "stderr",
     "output_type": "stream",
     "text": [
      "/Users/anna/opt/anaconda3/lib/python3.7/site-packages/sklearn/preprocessing/data.py:355: RuntimeWarning: All-NaN slice encountered\n",
      "  data_min = np.nanmin(X, axis=0)\n",
      "/Users/anna/opt/anaconda3/lib/python3.7/site-packages/sklearn/preprocessing/data.py:356: RuntimeWarning: All-NaN slice encountered\n",
      "  data_max = np.nanmax(X, axis=0)\n"
     ]
    }
   ],
   "source": [
    "##scaled median features\n",
    "from sklearn.preprocessing import MinMaxScaler\n",
    "\n",
    "\n",
    "scaler = MinMaxScaler(feature_range=(0,1),copy=False)\n",
    "scaler.fit(feature_df.drop(['cond','exp','cond_short'],axis=1))\n",
    "scaled_vectors=scaler.transform(feature_df.drop(['cond','exp','cond_short'],axis=1))\n",
    "featuresScaled_df=pd.DataFrame(scaled_vectors,columns=feature_df.drop(['cond','exp','cond_short'],axis=1).columns)\n",
    "featuresScaled_df['cond']=feature_df['cond']\n",
    "featuresScaled_df['cond_short']=feature_df['cond_short']\n",
    "featuresScaled_df.set_index('cond',inplace=True)\n",
    "\n",
    "featuresScaled_df.to_excel('medianFeaturesScaled_{}.xlsx'.format(img_df['exp_num'].iloc[1]))"
   ]
  }
 ],
 "metadata": {
  "kernelspec": {
   "display_name": "Python 3",
   "language": "python",
   "name": "python3"
  },
  "language_info": {
   "codemirror_mode": {
    "name": "ipython",
    "version": 3
   },
   "file_extension": ".py",
   "mimetype": "text/x-python",
   "name": "python",
   "nbconvert_exporter": "python",
   "pygments_lexer": "ipython3",
   "version": "3.7.4"
  }
 },
 "nbformat": 4,
 "nbformat_minor": 2
}
