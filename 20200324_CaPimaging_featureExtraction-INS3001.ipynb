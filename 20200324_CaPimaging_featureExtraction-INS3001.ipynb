{
 "cells": [
  {
   "cell_type": "code",
   "execution_count": 1,
   "metadata": {},
   "outputs": [],
   "source": [
    "import seaborn as sns\n",
    "from pathlib import Path\n",
    "import os\n",
    "import numpy as np # linear algebra\n",
    "import pandas as pd # data processing, CSV file I/O (e.g. pd.read_csv)\n",
    "import glob\n",
    "from skimage.io import imread\n",
    "import matplotlib.pyplot as plt\n",
    "%matplotlib inline"
   ]
  },
  {
   "cell_type": "markdown",
   "metadata": {},
   "source": [
    "# Initialize and import channel images"
   ]
  },
  {
   "cell_type": "code",
   "execution_count": 2,
   "metadata": {},
   "outputs": [
    {
     "name": "stdout",
     "output_type": "stream",
     "text": [
      "Current directory: /Users/anna/Documents/PhD/CalcificationImaging/ImageAnalysis\n",
      "Home directory: /Users/anna\n"
     ]
    }
   ],
   "source": [
    "#info about directory\n",
    "print(f\"Current directory: {Path.cwd()}\")\n",
    "print(f\"Home directory: {Path.home()}\")"
   ]
  },
  {
   "cell_type": "code",
   "execution_count": 3,
   "metadata": {},
   "outputs": [],
   "source": [
    "##importing 3 seperate channel images into dataframe\n",
    "\n",
    "\n",
    "os.chdir(r\"/Users/anna/Documents/PhD/CalcificationImaging/ImagingData/INS3001_03/20x_tiff/\")#direct to image dir\n",
    "img_dir = Path('')\n",
    "\n",
    "img_df = pd.DataFrame({'path': list(img_dir.glob('C3*.tif'))})#3 channel fluorescence image split \n",
    "#into 3 seperate tif files, C1-channel1; filenameparts seperated by '-';\n",
    "img_df['base'] = img_df['path'].map(lambda c_path: c_path.as_posix())#convert path to string\n",
    "img_df['exp_num'] =img_df['base'].apply(lambda base:base.split('-')[1][:-5])#experiment code of lif file\n",
    "img_df['cond'] =img_df['base'].apply(lambda base:base.split('-')[2])#sample condition\n",
    "img_df['Brightfield'] = img_df['path'].map(\n",
    "        lambda c_path: imread(c_path))#read in channel 1\n",
    "\n",
    "img_df['Hoechst'] = img_df['cond'].apply(lambda cond: imread('C4-20200301_CaP_INS3001_Exp03_20x.lif -{}'.format(cond)))#read in Hoechst channel \n",
    "img_df['CellMask'] = img_df['cond'].apply(lambda cond: imread('C5-20200301_CaP_INS3001_Exp03_20x.lif -{}'.format(cond)))#read in CellMaSK channel \n",
    "img_df['EthD'] = img_df['cond'].apply(lambda cond: imread('C2-20200301_CaP_INS3001_Exp03_20x.lif -{}'.format(cond)))#read in EthD channel\n",
    "img_df['Calcein'] = img_df['cond'].apply(lambda cond: imread('C1-20200301_CaP_INS3001_Exp03_20x.lif -{}'.format(cond)))#read in Hoechst channel #read in EthD channel"
   ]
  },
  {
   "cell_type": "markdown",
   "metadata": {},
   "source": [
    "# !! adapt cond_short dependending on cond: check head of df if correct"
   ]
  },
  {
   "cell_type": "code",
   "execution_count": 77,
   "metadata": {},
   "outputs": [
    {
     "data": {
      "text/plain": [
       "'20200301_CaP_INS3001_Exp03_20x'"
      ]
     },
     "execution_count": 77,
     "metadata": {},
     "output_type": "execute_result"
    }
   ],
   "source": [
    "img_df['exp_num'].iloc[0]"
   ]
  },
  {
   "cell_type": "code",
   "execution_count": 78,
   "metadata": {},
   "outputs": [
    {
     "data": {
      "text/html": [
       "<div>\n",
       "<style scoped>\n",
       "    .dataframe tbody tr th:only-of-type {\n",
       "        vertical-align: middle;\n",
       "    }\n",
       "\n",
       "    .dataframe tbody tr th {\n",
       "        vertical-align: top;\n",
       "    }\n",
       "\n",
       "    .dataframe thead th {\n",
       "        text-align: right;\n",
       "    }\n",
       "</style>\n",
       "<table border=\"1\" class=\"dataframe\">\n",
       "  <thead>\n",
       "    <tr style=\"text-align: right;\">\n",
       "      <th></th>\n",
       "      <th>index</th>\n",
       "      <th>path</th>\n",
       "      <th>base</th>\n",
       "      <th>exp_num</th>\n",
       "      <th>cond</th>\n",
       "      <th>Brightfield</th>\n",
       "      <th>Hoechst</th>\n",
       "      <th>CellMask</th>\n",
       "      <th>EthD</th>\n",
       "      <th>Calcein</th>\n",
       "      <th>cond_short</th>\n",
       "    </tr>\n",
       "  </thead>\n",
       "  <tbody>\n",
       "    <tr>\n",
       "      <td>0</td>\n",
       "      <td>42</td>\n",
       "      <td>C3-20200301_CaP_INS3001_Exp03_20x.lif - c00_w1...</td>\n",
       "      <td>C3-20200301_CaP_INS3001_Exp03_20x.lif - c00_w1...</td>\n",
       "      <td>20200301_CaP_INS3001_Exp03_20x</td>\n",
       "      <td>c00_w1_01.tif</td>\n",
       "      <td>[[19, 19, 20, 20, 18, 19, 18, 19, 20, 20, 20, ...</td>\n",
       "      <td>[[8, 9, 6, 7, 7, 8, 5, 6, 7, 9, 8, 9, 9, 9, 10...</td>\n",
       "      <td>[[15, 15, 15, 16, 16, 18, 16, 14, 14, 15, 14, ...</td>\n",
       "      <td>[[2, 3, 3, 3, 2, 2, 2, 3, 2, 2, 2, 2, 3, 2, 2,...</td>\n",
       "      <td>[[5, 5, 5, 4, 5, 5, 4, 4, 5, 5, 4, 5, 4, 6, 4,...</td>\n",
       "      <td>c00</td>\n",
       "    </tr>\n",
       "    <tr>\n",
       "      <td>1</td>\n",
       "      <td>44</td>\n",
       "      <td>C3-20200301_CaP_INS3001_Exp03_20x.lif - c00_w1...</td>\n",
       "      <td>C3-20200301_CaP_INS3001_Exp03_20x.lif - c00_w1...</td>\n",
       "      <td>20200301_CaP_INS3001_Exp03_20x</td>\n",
       "      <td>c00_w1_02.tif</td>\n",
       "      <td>[[20, 23, 22, 21, 20, 21, 21, 18, 16, 17, 21, ...</td>\n",
       "      <td>[[6, 6, 7, 5, 6, 6, 7, 7, 6, 7, 6, 8, 6, 8, 7,...</td>\n",
       "      <td>[[14, 15, 11, 13, 14, 14, 15, 15, 17, 16, 16, ...</td>\n",
       "      <td>[[2, 2, 2, 2, 3, 2, 2, 2, 4, 4, 3, 3, 4, 4, 5,...</td>\n",
       "      <td>[[30, 35, 37, 36, 39, 39, 45, 49, 49, 48, 55, ...</td>\n",
       "      <td>c00</td>\n",
       "    </tr>\n",
       "    <tr>\n",
       "      <td>2</td>\n",
       "      <td>47</td>\n",
       "      <td>C3-20200301_CaP_INS3001_Exp03_20x.lif - c00_w1...</td>\n",
       "      <td>C3-20200301_CaP_INS3001_Exp03_20x.lif - c00_w1...</td>\n",
       "      <td>20200301_CaP_INS3001_Exp03_20x</td>\n",
       "      <td>c00_w1_03.tif</td>\n",
       "      <td>[[21, 21, 22, 24, 23, 23, 21, 22, 24, 27, 27, ...</td>\n",
       "      <td>[[14, 13, 12, 12, 12, 15, 12, 11, 10, 8, 9, 8,...</td>\n",
       "      <td>[[10, 11, 12, 11, 9, 12, 13, 13, 11, 10, 12, 1...</td>\n",
       "      <td>[[2, 2, 3, 1, 2, 1, 2, 2, 1, 2, 3, 2, 2, 3, 2,...</td>\n",
       "      <td>[[6, 7, 4, 5, 7, 7, 9, 10, 13, 14, 15, 14, 11,...</td>\n",
       "      <td>c00</td>\n",
       "    </tr>\n",
       "    <tr>\n",
       "      <td>3</td>\n",
       "      <td>21</td>\n",
       "      <td>C3-20200301_CaP_INS3001_Exp03_20x.lif - c00_w2...</td>\n",
       "      <td>C3-20200301_CaP_INS3001_Exp03_20x.lif - c00_w2...</td>\n",
       "      <td>20200301_CaP_INS3001_Exp03_20x</td>\n",
       "      <td>c00_w2_01.tif</td>\n",
       "      <td>[[24, 25, 26, 25, 23, 22, 23, 22, 23, 22, 23, ...</td>\n",
       "      <td>[[11, 11, 11, 12, 13, 14, 12, 14, 14, 12, 14, ...</td>\n",
       "      <td>[[29, 28, 30, 28, 32, 28, 27, 25, 25, 24, 23, ...</td>\n",
       "      <td>[[5, 5, 5, 6, 5, 6, 4, 4, 3, 4, 4, 4, 4, 4, 3,...</td>\n",
       "      <td>[[30, 33, 31, 30, 27, 25, 21, 17, 15, 16, 14, ...</td>\n",
       "      <td>c00</td>\n",
       "    </tr>\n",
       "    <tr>\n",
       "      <td>4</td>\n",
       "      <td>26</td>\n",
       "      <td>C3-20200301_CaP_INS3001_Exp03_20x.lif - c00_w2...</td>\n",
       "      <td>C3-20200301_CaP_INS3001_Exp03_20x.lif - c00_w2...</td>\n",
       "      <td>20200301_CaP_INS3001_Exp03_20x</td>\n",
       "      <td>c00_w2_02.tif</td>\n",
       "      <td>[[26, 23, 24, 25, 25, 24, 25, 26, 24, 25, 25, ...</td>\n",
       "      <td>[[55, 56, 54, 58, 60, 60, 58, 55, 60, 56, 58, ...</td>\n",
       "      <td>[[19, 19, 21, 18, 18, 19, 17, 17, 21, 19, 18, ...</td>\n",
       "      <td>[[4, 5, 4, 4, 4, 4, 4, 4, 4, 4, 4, 2, 3, 4, 5,...</td>\n",
       "      <td>[[6, 5, 5, 6, 5, 5, 5, 5, 5, 5, 5, 4, 2, 4, 4,...</td>\n",
       "      <td>c00</td>\n",
       "    </tr>\n",
       "  </tbody>\n",
       "</table>\n",
       "</div>"
      ],
      "text/plain": [
       "   index                                               path  \\\n",
       "0     42  C3-20200301_CaP_INS3001_Exp03_20x.lif - c00_w1...   \n",
       "1     44  C3-20200301_CaP_INS3001_Exp03_20x.lif - c00_w1...   \n",
       "2     47  C3-20200301_CaP_INS3001_Exp03_20x.lif - c00_w1...   \n",
       "3     21  C3-20200301_CaP_INS3001_Exp03_20x.lif - c00_w2...   \n",
       "4     26  C3-20200301_CaP_INS3001_Exp03_20x.lif - c00_w2...   \n",
       "\n",
       "                                                base  \\\n",
       "0  C3-20200301_CaP_INS3001_Exp03_20x.lif - c00_w1...   \n",
       "1  C3-20200301_CaP_INS3001_Exp03_20x.lif - c00_w1...   \n",
       "2  C3-20200301_CaP_INS3001_Exp03_20x.lif - c00_w1...   \n",
       "3  C3-20200301_CaP_INS3001_Exp03_20x.lif - c00_w2...   \n",
       "4  C3-20200301_CaP_INS3001_Exp03_20x.lif - c00_w2...   \n",
       "\n",
       "                          exp_num            cond  \\\n",
       "0  20200301_CaP_INS3001_Exp03_20x   c00_w1_01.tif   \n",
       "1  20200301_CaP_INS3001_Exp03_20x   c00_w1_02.tif   \n",
       "2  20200301_CaP_INS3001_Exp03_20x   c00_w1_03.tif   \n",
       "3  20200301_CaP_INS3001_Exp03_20x   c00_w2_01.tif   \n",
       "4  20200301_CaP_INS3001_Exp03_20x   c00_w2_02.tif   \n",
       "\n",
       "                                         Brightfield  \\\n",
       "0  [[19, 19, 20, 20, 18, 19, 18, 19, 20, 20, 20, ...   \n",
       "1  [[20, 23, 22, 21, 20, 21, 21, 18, 16, 17, 21, ...   \n",
       "2  [[21, 21, 22, 24, 23, 23, 21, 22, 24, 27, 27, ...   \n",
       "3  [[24, 25, 26, 25, 23, 22, 23, 22, 23, 22, 23, ...   \n",
       "4  [[26, 23, 24, 25, 25, 24, 25, 26, 24, 25, 25, ...   \n",
       "\n",
       "                                             Hoechst  \\\n",
       "0  [[8, 9, 6, 7, 7, 8, 5, 6, 7, 9, 8, 9, 9, 9, 10...   \n",
       "1  [[6, 6, 7, 5, 6, 6, 7, 7, 6, 7, 6, 8, 6, 8, 7,...   \n",
       "2  [[14, 13, 12, 12, 12, 15, 12, 11, 10, 8, 9, 8,...   \n",
       "3  [[11, 11, 11, 12, 13, 14, 12, 14, 14, 12, 14, ...   \n",
       "4  [[55, 56, 54, 58, 60, 60, 58, 55, 60, 56, 58, ...   \n",
       "\n",
       "                                            CellMask  \\\n",
       "0  [[15, 15, 15, 16, 16, 18, 16, 14, 14, 15, 14, ...   \n",
       "1  [[14, 15, 11, 13, 14, 14, 15, 15, 17, 16, 16, ...   \n",
       "2  [[10, 11, 12, 11, 9, 12, 13, 13, 11, 10, 12, 1...   \n",
       "3  [[29, 28, 30, 28, 32, 28, 27, 25, 25, 24, 23, ...   \n",
       "4  [[19, 19, 21, 18, 18, 19, 17, 17, 21, 19, 18, ...   \n",
       "\n",
       "                                                EthD  \\\n",
       "0  [[2, 3, 3, 3, 2, 2, 2, 3, 2, 2, 2, 2, 3, 2, 2,...   \n",
       "1  [[2, 2, 2, 2, 3, 2, 2, 2, 4, 4, 3, 3, 4, 4, 5,...   \n",
       "2  [[2, 2, 3, 1, 2, 1, 2, 2, 1, 2, 3, 2, 2, 3, 2,...   \n",
       "3  [[5, 5, 5, 6, 5, 6, 4, 4, 3, 4, 4, 4, 4, 4, 3,...   \n",
       "4  [[4, 5, 4, 4, 4, 4, 4, 4, 4, 4, 4, 2, 3, 4, 5,...   \n",
       "\n",
       "                                             Calcein cond_short  \n",
       "0  [[5, 5, 5, 4, 5, 5, 4, 4, 5, 5, 4, 5, 4, 6, 4,...        c00  \n",
       "1  [[30, 35, 37, 36, 39, 39, 45, 49, 49, 48, 55, ...        c00  \n",
       "2  [[6, 7, 4, 5, 7, 7, 9, 10, 13, 14, 15, 14, 11,...        c00  \n",
       "3  [[30, 33, 31, 30, 27, 25, 21, 17, 15, 16, 14, ...        c00  \n",
       "4  [[6, 5, 5, 6, 5, 5, 5, 5, 5, 5, 5, 4, 2, 4, 4,...        c00  "
      ]
     },
     "execution_count": 78,
     "metadata": {},
     "output_type": "execute_result"
    }
   ],
   "source": [
    "##sort dataframe by condition column\n",
    "img_df['cond_short']=img_df['cond'].apply(lambda str:str[1:4])\n",
    "#img_df['cond_short']=img_df['cond'].apply(lambda str:str[5:8])\n",
    "img_df.sort_values(by='cond',axis=0,inplace=True)\n",
    "img_df.reset_index(inplace=True)\n",
    "img_df.head()"
   ]
  },
  {
   "cell_type": "markdown",
   "metadata": {},
   "source": [
    "# Hoechst: count cells"
   ]
  },
  {
   "cell_type": "code",
   "execution_count": 79,
   "metadata": {},
   "outputs": [
    {
     "name": "stderr",
     "output_type": "stream",
     "text": [
      "/Users/anna/opt/anaconda3/lib/python3.7/site-packages/pandas/core/indexing.py:205: SettingWithCopyWarning: \n",
      "A value is trying to be set on a copy of a slice from a DataFrame\n",
      "\n",
      "See the caveats in the documentation: http://pandas.pydata.org/pandas-docs/stable/user_guide/indexing.html#returning-a-view-versus-a-copy\n",
      "  self._setitem_with_indexer(indexer, value)\n"
     ]
    }
   ],
   "source": [
    "##Hoechst: binarize\n",
    "\n",
    "from skimage.filters import threshold_triangle\n",
    "\n",
    "img_df['hoechst_bw']=\"\" #new column in dataframe for bw img\n",
    "img_df['t_hoechst']=\"\" #new column for chosen threshold\n",
    "\n",
    "for img, (idx,_) in zip(img_df['Hoechst'], img_df.iterrows()):  \n",
    "    t=threshold_triangle(img)\n",
    "    img_df['hoechst_bw'].iloc[idx]=img>t\n",
    "    img_df['t_hoechst'].iloc[idx]=t"
   ]
  },
  {
   "cell_type": "code",
   "execution_count": 80,
   "metadata": {},
   "outputs": [],
   "source": [
    "##Hoechst segmentation and count v2-optimized\n",
    "\n",
    "from skimage.filters import threshold_local, median\n",
    "from skimage.morphology import binary_erosion,disk,watershed,dilation\n",
    "from scipy import ndimage as ndi\n",
    "from skimage.feature import peak_local_max\n",
    "\n",
    "img_df['local_maxi']=''\n",
    "\n",
    "#prepare seeds from Hoechst channel\n",
    "img_df['distance']=img_df['hoechst_bw'].apply(lambda hoechst_bw:ndi.distance_transform_edt(hoechst_bw))\n",
    "\n",
    "for (idx,_) in img_df.iterrows():\n",
    "    img_df['local_maxi'].iloc[idx]=peak_local_max(img_df['distance'].iloc[idx], indices=False, footprint=np.ones((30,30)),\n",
    "                                                  labels=img_df['hoechst_bw'].iloc[idx])\n",
    "img_df['local_maxi_extend']=img_df['local_maxi'].apply(lambda maxi: dilation(maxi,disk(3)))\n",
    "img_df['hoechst_seeds']=img_df['local_maxi_extend'].apply(lambda maxi:ndi.label(maxi)[0]) #extend local maxima to \n",
    "#avoid two seeds very close together\n",
    "\n",
    "#watershed\n",
    "img_df['hoechst_labels']=''\n",
    "img_df['hoechst_line']=''\n",
    "\n",
    "\n",
    "for (idx,_) in img_df.iterrows():\n",
    "    img_df['hoechst_labels'].iloc[idx]=watershed(-img_df['distance'].iloc[idx],img_df['hoechst_seeds'].iloc[idx],\n",
    "                                                 mask=img_df['hoechst_bw'].iloc[idx],\n",
    "                                                 watershed_line=True,compactness=200)\n",
    "    #high compactness makes nuclei in cluster more uniform\n",
    "    img_df['hoechst_line'].iloc[idx]=img_df['hoechst_labels'].iloc[idx]==0\n",
    "\n",
    "    #count    \n",
    "img_df['nuclei_count']=img_df['hoechst_labels'].apply(lambda labels:np.amax(labels))\n",
    "\n",
    "\n"
   ]
  },
  {
   "cell_type": "markdown",
   "metadata": {},
   "source": [
    "# EthD - count dead cells"
   ]
  },
  {
   "cell_type": "code",
   "execution_count": 81,
   "metadata": {},
   "outputs": [],
   "source": [
    "## EthD binarize\n",
    "\n",
    "img_df['EthD_99']=img_df['EthD'].apply(lambda int: np.percentile(int,99))\n",
    "\n",
    "t=60 #lower fixed threshold\n",
    "img_df['ethd_mask']=''\n",
    "img_df['ethd_mask_f']=''\n",
    "\n",
    "for (idx,_) in img_df.iterrows():\n",
    "    img_df['ethd_mask'].iloc[idx]=img_df['EthD'].iloc[idx]>img_df['EthD_99'].iloc[idx]\n",
    "    img_df['ethd_mask_f'].iloc[idx]=img_df['ethd_mask'].iloc[idx]*img_df['EthD'].iloc[idx]\n",
    "\n",
    "img_df['ethd_mask_bw']=img_df['ethd_mask_f'].apply(lambda img: img>t) #lower fixed threshold\n",
    "\n"
   ]
  },
  {
   "cell_type": "code",
   "execution_count": 87,
   "metadata": {},
   "outputs": [],
   "source": [
    "## EthD-watershed to seperate touching objects\n",
    "from scipy import ndimage as ndi\n",
    "\n",
    "from skimage.morphology import watershed\n",
    "from skimage.feature import peak_local_max\n",
    "from skimage.measure import regionprops\n",
    "\n",
    "Tarea=20 #filter for small noise\n",
    "img_df['ethd_distance']=img_df['ethd_mask_bw'].apply(lambda mask: ndi.distance_transform_edt(mask))\n",
    "#greyscale distance or binary distance?\n",
    "\n",
    "img_df['ethd_local_maxi']=''\n",
    "img_df['ethd_labels']=''\n",
    "img_df['ethd_areas']=np.empty((len(img_df), 0)).tolist()\n",
    "img_df['ethd_areasFilter']=np.empty((len(img_df), 0)).tolist()\n",
    "img_df['ethd_props']=''\n",
    "img_df['ethd_count']=''\n",
    "\n",
    "for (idx,_) in img_df.iterrows():\n",
    "    img_df['ethd_local_maxi'].iloc[idx]=peak_local_max(img_df['ethd_distance'].iloc[idx],indices=False,\n",
    "                                                  footprint=np.ones((20,20)),labels=img_df['ethd_mask_bw'].iloc[idx])\n",
    "\n",
    "img_df['ethd_maxi_extend']=img_df['ethd_local_maxi'].apply(lambda maxi: dilation(maxi,disk(5)))\n",
    "img_df['ethd_seeds']=img_df['ethd_local_maxi'].apply(lambda maxi:ndi.label(maxi)[0]) #extend local maxima to \n",
    "#avoid two seeds very close together\n",
    "\n",
    "\n",
    "\n",
    "for (idx,_) in img_df.iterrows():\n",
    "    img_df['ethd_labels'].iloc[idx]=watershed(-img_df['ethd_distance'].iloc[idx],img_df['ethd_seeds'].iloc[idx],\\\n",
    "                                         mask=img_df['ethd_mask_bw'].iloc[idx])\n",
    "    img_df['ethd_props'].iloc[idx]=regionprops(img_df['ethd_labels'].iloc[idx])\n",
    "    for p in img_df['ethd_props'].iloc[idx]:\n",
    "        img_df['ethd_areas'].iloc[idx].append(p.area)\n",
    "\n",
    "    img_df['ethd_areasFilter'].iloc[idx]=(list(filter(lambda ele:ele>Tarea, img_df['ethd_areas'].iloc[idx]))) #upper threshold for patch area\n",
    "    img_df['ethd_count'].iloc[idx]=len(img_df['ethd_areasFilter'].iloc[idx])\n",
    "\n"
   ]
  },
  {
   "cell_type": "markdown",
   "metadata": {},
   "source": [
    "# cellmask channel - single cell segmentation"
   ]
  },
  {
   "cell_type": "code",
   "execution_count": 88,
   "metadata": {},
   "outputs": [],
   "source": [
    "##adaptive thresholding of cellmask channel\n",
    "from skimage.morphology import medial_axis\n",
    "\n",
    "block_size = 35\n",
    "img_df['adaptiveT']=img_df['CellMask'].apply(lambda cellmask:threshold_local(cellmask, block_size))\n",
    "\n",
    "\n",
    "img_df['cellmask_adp']=''\n",
    "\n",
    "for (idx,_) in img_df.iterrows():\n",
    "    \n",
    "    img_df['cellmask_adp'].iloc[idx]=img_df['CellMask'].iloc[idx]> img_df['adaptiveT'].iloc[idx] \n",
    "#median filtering and erosion of thresholded cellmask img\n",
    "img_df['cellmask_med']=img_df['cellmask_adp'].apply(lambda cellmask_adp: median(cellmask_adp,disk(5)))\n",
    "img_df['cellmask_eros']=img_df['cellmask_med'].apply(lambda cellmask_med:binary_erosion(cellmask_med))\n",
    "\n",
    "img_df['cellmask_skeleton']=img_df['cellmask_eros'].apply(lambda img:medial_axis(img))\n",
    "img_df['distance_eros']=img_df['cellmask_eros'].apply(lambda img:ndi.distance_transform_edt(img))\n",
    "\n"
   ]
  },
  {
   "cell_type": "code",
   "execution_count": 89,
   "metadata": {},
   "outputs": [],
   "source": [
    "##cellmask-watershed (alternative 1): distance of binary erosion of cellmask; seeds of Hoechst channel\n",
    "img_df['cellmask_labels']=''\n",
    "img_df['cellmask_line']=''\n",
    "\n",
    "for (idx,_) in img_df.iterrows():\n",
    "    img_df['cellmask_labels'].iloc[idx]=watershed(img_df['distance_eros'].iloc[idx],\n",
    "                                                  img_df['hoechst_seeds'].iloc[idx], watershed_line=True)\n",
    "    img_df['cellmask_line'].iloc[idx]=img_df['cellmask_labels'].iloc[idx]==0"
   ]
  },
  {
   "cell_type": "markdown",
   "metadata": {},
   "source": [
    "## correlation between calcein and cellmask channels"
   ]
  },
  {
   "cell_type": "code",
   "execution_count": 90,
   "metadata": {},
   "outputs": [],
   "source": [
    "##compute ssim and difference image\n",
    "from skimage.measure import compare_ssim\n",
    "\n",
    "img_df['ssim_cm']=''\n",
    "img_df['grad_cm']=''\n",
    "\n",
    "for (idx,_) in img_df.iterrows():\n",
    "    img_df['ssim_cm'].iloc[idx],img_df['grad_cm'].iloc[idx]=compare_ssim(img_df['Calcein'].iloc[idx],\n",
    "                                                               img_df['CellMask'].iloc[idx],gradient=True)\n",
    "   "
   ]
  },
  {
   "cell_type": "markdown",
   "metadata": {},
   "source": [
    "# single cell feature extraction"
   ]
  },
  {
   "cell_type": "code",
   "execution_count": 91,
   "metadata": {},
   "outputs": [],
   "source": [
    "##new dataframe for single cell features\n",
    "singleCell_df=pd.DataFrame({'exp':img_df['exp_num'],'cond':img_df['cond'], 'cond_short':img_df['cond_short'],'CellMask':\n",
    "                            img_df['CellMask'],'cellmask_labels':img_df['cellmask_labels'], 'Calcein':img_df['Calcein'],\n",
    "                            'Hoechst':img_df['Hoechst'], 'hoechst_labels':img_df['hoechst_labels']})\n",
    "                               \n"
   ]
  },
  {
   "cell_type": "code",
   "execution_count": 92,
   "metadata": {},
   "outputs": [
    {
     "name": "stderr",
     "output_type": "stream",
     "text": [
      "/Users/anna/opt/anaconda3/lib/python3.7/site-packages/skimage/measure/_regionprops.py:250: UserWarning: regionprops and image moments (including moments, normalized moments, central moments, and inertia tensor) of 2D images will change from xy coordinates to rc coordinates in version 0.16.\n",
      "See https://scikit-image.org/docs/0.14.x/release_notes_and_installation.html#deprecations for details on how to avoid this message.\n",
      "  warn(XY_TO_RC_DEPRECATION_MESSAGE)\n",
      "/Users/anna/opt/anaconda3/lib/python3.7/site-packages/skimage/measure/_regionprops.py:260: UserWarning: regionprops and image moments (including moments, normalized moments, central moments, and inertia tensor) of 2D images will change from xy coordinates to rc coordinates in version 0.16.\n",
      "See https://scikit-image.org/docs/0.14.x/release_notes_and_installation.html#deprecations for details on how to avoid this message.\n",
      "  warn(XY_TO_RC_DEPRECATION_MESSAGE)\n"
     ]
    }
   ],
   "source": [
    "##extraxt features for single cells\n",
    "from skimage.measure import regionprops\n",
    "\n",
    "#add: totalcell and dead cell count\n",
    "singleCell_df['nuclei_count']=img_df['nuclei_count']\n",
    "singleCell_df['ethd_count']=img_df['ethd_count']\n",
    "\n",
    "\n",
    "#single cell features of cellmask channel: shape and intensity\n",
    "singleCell_df['props']=''\n",
    "singleCell_df['areas']=np.empty((len(singleCell_df), 0)).tolist()\n",
    "singleCell_df['major_axis_length']=np.empty((len(singleCell_df), 0)).tolist()\n",
    "singleCell_df['eccentricity']=np.empty((len(singleCell_df), 0)).tolist()\n",
    "singleCell_df['eulernumber']=np.empty((len(singleCell_df), 0)).tolist()\n",
    "singleCell_df['extent']=np.empty((len(singleCell_df), 0)).tolist()\n",
    "singleCell_df['maxint']=np.empty((len(singleCell_df), 0)).tolist()\n",
    "singleCell_df['meanint']=np.empty((len(singleCell_df), 0)).tolist()\n",
    "singleCell_df['minint']=np.empty((len(singleCell_df), 0)).tolist()\n",
    "singleCell_df['perimeter']=np.empty((len(singleCell_df), 0)).tolist()\n",
    "singleCell_df['solidity']=np.empty((len(singleCell_df), 0)).tolist()\n",
    "singleCell_df['inertiatensor']=np.empty((len(singleCell_df), 0)).tolist()\n",
    "singleCell_df['major_axis_length']=np.empty((len(singleCell_df), 0)).tolist()\n",
    "singleCell_df['minor_axis_length']=np.empty((len(singleCell_df), 0)).tolist()\n",
    "singleCell_df['bbox']=np.empty((len(singleCell_df), 0)).tolist()\n",
    "\n",
    "\n",
    "\n",
    "for (idx,_) in img_df.iterrows():\n",
    "    singleCell_df['props'].iloc[idx]=regionprops(singleCell_df['cellmask_labels'].iloc[idx],singleCell_df['CellMask'].iloc[idx])\n",
    "    for p in singleCell_df['props'].iloc[idx]:\n",
    "        singleCell_df['areas'].iloc[idx].append(p.area)\n",
    "        singleCell_df['eccentricity'].iloc[idx].append(p.eccentricity)\n",
    "        singleCell_df['eulernumber'].iloc[idx].append(p.euler_number)\n",
    "        singleCell_df['extent'].iloc[idx].append(p.extent)\n",
    "        singleCell_df['maxint'].iloc[idx].append(p.max_intensity)\n",
    "        singleCell_df['meanint'].iloc[idx].append(p.mean_intensity)\n",
    "        singleCell_df['minint'].iloc[idx].append(p.min_intensity)\n",
    "        singleCell_df['perimeter'].iloc[idx].append(p.perimeter)\n",
    "        singleCell_df['solidity'].iloc[idx].append(p.solidity)\n",
    "        singleCell_df['inertiatensor'].iloc[idx].append(p.inertia_tensor_eigvals)\n",
    "        singleCell_df['major_axis_length'].iloc[idx].append(p.major_axis_length)\n",
    "        singleCell_df['minor_axis_length'].iloc[idx].append(p.minor_axis_length)\n",
    "        singleCell_df['bbox'].iloc[idx].append(p.bbox)\n",
    "       "
   ]
  },
  {
   "cell_type": "code",
   "execution_count": 93,
   "metadata": {},
   "outputs": [],
   "source": [
    "#single cell features of hoechst channel: shape \n",
    "singleCell_df['props_hoechst']=''\n",
    "singleCell_df['areas_hoechst']=np.empty((len(singleCell_df), 0)).tolist()\n",
    "singleCell_df['major_axis_length_hoechst']=np.empty((len(singleCell_df), 0)).tolist()\n",
    "singleCell_df['eccentricity_hoechst']=np.empty((len(singleCell_df), 0)).tolist()\n",
    "singleCell_df['eulernumber_hoechst']=np.empty((len(singleCell_df), 0)).tolist()\n",
    "singleCell_df['extent_hoechst']=np.empty((len(singleCell_df), 0)).tolist()\n",
    "singleCell_df['perimeter_hoechst']=np.empty((len(singleCell_df), 0)).tolist()\n",
    "singleCell_df['solidity_hoechst']=np.empty((len(singleCell_df), 0)).tolist()\n",
    "singleCell_df['inertiatensor_hoechst']=np.empty((len(singleCell_df), 0)).tolist()\n",
    "singleCell_df['major_axis_length_hoechst']=np.empty((len(singleCell_df), 0)).tolist()\n",
    "singleCell_df['minor_axis_length_hoechst']=np.empty((len(singleCell_df), 0)).tolist()\n",
    "singleCell_df['bbox_hoechst']=np.empty((len(singleCell_df), 0)).tolist()\n",
    "\n",
    "for (idx,_) in img_df.iterrows():\n",
    "    singleCell_df['props_hoechst'].iloc[idx]=regionprops(singleCell_df['hoechst_labels'].iloc[idx])\n",
    "    for p in singleCell_df['props_hoechst'].iloc[idx]:\n",
    "        singleCell_df['areas_hoechst'].iloc[idx].append(p.area)\n",
    "        singleCell_df['eccentricity_hoechst'].iloc[idx].append(p.eccentricity)\n",
    "        singleCell_df['eulernumber_hoechst'].iloc[idx].append(p.euler_number)\n",
    "        singleCell_df['extent_hoechst'].iloc[idx].append(p.extent)\n",
    "        singleCell_df['perimeter_hoechst'].iloc[idx].append(p.perimeter)\n",
    "        singleCell_df['solidity_hoechst'].iloc[idx].append(p.solidity)\n",
    "        singleCell_df['inertiatensor_hoechst'].iloc[idx].append(p.inertia_tensor_eigvals)\n",
    "        singleCell_df['major_axis_length_hoechst'].iloc[idx].append(p.major_axis_length)\n",
    "        #singleCell_df['minor_axis_length_hoechst'].iloc[idx].append(p.minor_axis_length)\n",
    "        #singleCell_df['bbox_hoechst'].iloc[idx].append(p.bbox)\n",
    "\n",
    "\n"
   ]
  },
  {
   "cell_type": "code",
   "execution_count": 94,
   "metadata": {},
   "outputs": [],
   "source": [
    "## new df for median feature vectors\n",
    "singleCellMedian_df=''\n",
    "singleCellMedian_df=singleCell_df.copy()\n",
    "\n",
    "singleCellMedian_df.drop(['exp','cond_short','CellMask','cellmask_labels', 'Calcein', 'Hoechst', 'hoechst_labels', \n",
    "                       'props','props_hoechst','bbox','inertiatensor','inertiatensor_hoechst'],axis=1,inplace=True)\n",
    "singleCellMedian_df.set_index('cond',inplace=True)\n",
    "\n",
    "\n"
   ]
  },
  {
   "cell_type": "code",
   "execution_count": 95,
   "metadata": {},
   "outputs": [
    {
     "name": "stderr",
     "output_type": "stream",
     "text": [
      "/Users/anna/opt/anaconda3/lib/python3.7/site-packages/numpy/core/fromnumeric.py:3257: RuntimeWarning: Mean of empty slice.\n",
      "  out=out, **kwargs)\n"
     ]
    }
   ],
   "source": [
    "##median values/img of features\n",
    "for (c,_) in singleCellMedian_df.iteritems():\n",
    "    singleCellMedian_df[c]=singleCellMedian_df[c].apply(lambda x: np.median(x))\n",
    "\n"
   ]
  },
  {
   "cell_type": "markdown",
   "metadata": {},
   "source": [
    "# calcein binarize and patch features"
   ]
  },
  {
   "cell_type": "code",
   "execution_count": 96,
   "metadata": {},
   "outputs": [],
   "source": [
    "## calcein channel features - binarize and total area\n",
    "from skimage.measure import label\n",
    "from skimage.color import label2rgb\n",
    "\n",
    "img_df['calcein_bw']=\"\" #new column in dataframe for bw img\n",
    "img_df['calcein_threshold']=\"\" #new column for chosen threshold\n",
    "\n",
    "##set threshold for each individual image based on triangle thresholding\n",
    "for img, (idx,_) in zip(img_df['Calcein'], img_df.iterrows()):  \n",
    "    t=threshold_triangle(img)\n",
    "    img_df['calcein_threshold'].iloc[idx]=t\n",
    "    \n",
    "## upper threshold limit: if higher than min in ctrl cond-set to min\n",
    "minT_c00=img_df[img_df['cond_short']=='c00']['calcein_threshold'].min()\n",
    "img_df['calcein_threshold']=img_df['calcein_threshold'].apply(lambda t: minT_c00 if t>minT_c00 else t)\n",
    "\n",
    "#binarize calcein channel image based on threshold\n",
    "for img, (idx,_) in zip(img_df['Calcein'], img_df.iterrows()):  \n",
    "    img_df['calcein_bw'].iloc[idx]=img>img_df['calcein_threshold'].iloc[idx]\n",
    "    \n",
    "\n",
    "img_df['calcein_area']=img_df['calcein_bw'].apply(lambda bw:bw.sum())#calculate total CaP area with sum of True px\n",
    "img_df['calcein_label']=img_df['calcein_bw'].apply(lambda x: label(x)) #label connected CaP patches\n",
    "img_df['calcein_count']=img_df['calcein_label'].apply(lambda x: np.amax(x))\n"
   ]
  },
  {
   "cell_type": "markdown",
   "metadata": {},
   "source": [
    "!!quick check of effects of defining upper threshold"
   ]
  },
  {
   "cell_type": "code",
   "execution_count": 97,
   "metadata": {},
   "outputs": [
    {
     "data": {
      "text/plain": [
       "Text(0, 0.5, 'CaP area (pixel)')"
      ]
     },
     "execution_count": 97,
     "metadata": {},
     "output_type": "execute_result"
    },
    {
     "data": {
      "image/png": "[encoded data removed]",
      "text/plain": [
       "<Figure size 1800x432 with 1 Axes>"
      ]
     },
     "metadata": {
      "needs_background": "light"
     },
     "output_type": "display_data"
    }
   ],
   "source": [
    "##plot:bw area with max threshold\n",
    "rcGraph = {\"axes.spines.left\" : True,\n",
    "      \"axes.spines.right\" : True,\n",
    "      \"axes.spines.bottom\" : True,\n",
    "      \"axes.spines.top\" : True,\n",
    "      \"xtick.bottom\" : True,\n",
    "      \"xtick.labelbottom\" : True,\n",
    "      \"ytick.labelleft\" : True,\n",
    "      \"ytick.left\" : True}\n",
    "plt.rcParams.update(rcGraph)\n",
    "\n",
    "plt.figure(figsize=(25, 6))\n",
    "plt.tight_layout()\n",
    "fig=sns.barplot(x='cond_short',y='calcein_area',data=img_df,color='gray')\n",
    "fig.set_xticklabels(fig.get_xticklabels(), rotation=45)\n",
    "fig.set_title('calceinArea_v1-maxT {}'.format(img_df['exp_num'].iloc[0]))\n",
    "fig.set_xlabel('Sample Condition')\n",
    "fig.set_ylabel('CaP area (pixel)')\n",
    "\n"
   ]
  },
  {
   "cell_type": "code",
   "execution_count": 98,
   "metadata": {},
   "outputs": [],
   "source": [
    "##calcein single patch features dataframe\n",
    "\n",
    "singleCalceinPatch_df=pd.DataFrame({'cond':img_df['cond'], 'exp':img_df['exp_num'], 'calcein_label':\n",
    "                                    img_df['calcein_label'],'calcein': img_df['Calcein']})"
   ]
  },
  {
   "cell_type": "code",
   "execution_count": 99,
   "metadata": {},
   "outputs": [],
   "source": [
    "##calcein single patch features dataframe: shape and intensity \n",
    "singleCalceinPatch_df['props_calcein']=''\n",
    "singleCalceinPatch_df['areas_calcein']=np.empty((len(singleCalceinPatch_df), 0)).tolist()\n",
    "singleCalceinPatch_df['eccentricity_calcein']=np.empty((len(singleCalceinPatch_df), 0)).tolist()\n",
    "singleCalceinPatch_df['eulernumber_calcein']=np.empty((len(singleCalceinPatch_df), 0)).tolist()\n",
    "singleCalceinPatch_df['extent_calcein']=np.empty((len(singleCalceinPatch_df), 0)).tolist()\n",
    "singleCalceinPatch_df['perimeter_calcein']=np.empty((len(singleCalceinPatch_df), 0)).tolist()\n",
    "singleCalceinPatch_df['solidity_calcein']=np.empty((len(singleCalceinPatch_df), 0)).tolist()\n",
    "singleCalceinPatch_df['inertiatensor_calcein']=np.empty((len(singleCalceinPatch_df), 0)).tolist()\n",
    "singleCalceinPatch_df['major_axis_length_calcein']=np.empty((len(singleCalceinPatch_df), 0)).tolist()\n",
    "singleCalceinPatch_df['minor_axis_length_calcein']=np.empty((len(singleCalceinPatch_df), 0)).tolist()\n",
    "singleCalceinPatch_df['bbox_calcein']=np.empty((len(singleCalceinPatch_df), 0)).tolist()\n",
    "singleCalceinPatch_df['min_calcein']=np.empty((len(singleCalceinPatch_df), 0)).tolist()\n",
    "singleCalceinPatch_df['max_calcein']=np.empty((len(singleCalceinPatch_df), 0)).tolist()\n",
    "singleCalceinPatch_df['mean_calcein']=np.empty((len(singleCalceinPatch_df), 0)).tolist()\n",
    "\n",
    "for (idx,_) in img_df.iterrows():\n",
    "    singleCalceinPatch_df['props_calcein'].iloc[idx]=regionprops(singleCalceinPatch_df['calcein_label'].iloc[idx],\n",
    "                                                                 singleCalceinPatch_df['calcein'].iloc[idx])\n",
    "    for p in singleCalceinPatch_df['props_calcein'].iloc[idx]:\n",
    "        singleCalceinPatch_df['areas_calcein'].iloc[idx].append(p.area)\n",
    "        singleCalceinPatch_df['eccentricity_calcein'].iloc[idx].append(p.eccentricity)\n",
    "        singleCalceinPatch_df['eulernumber_calcein'].iloc[idx].append(p.euler_number)\n",
    "        singleCalceinPatch_df['extent_calcein'].iloc[idx].append(p.extent)\n",
    "        singleCalceinPatch_df['perimeter_calcein'].iloc[idx].append(p.perimeter)\n",
    "        singleCalceinPatch_df['solidity_calcein'].iloc[idx].append(p.solidity)\n",
    "        singleCalceinPatch_df['inertiatensor_calcein'].iloc[idx].append(p.inertia_tensor_eigvals)\n",
    "        singleCalceinPatch_df['major_axis_length_calcein'].iloc[idx].append(p.major_axis_length)\n",
    "        singleCalceinPatch_df['minor_axis_length_calcein'].iloc[idx].append(p.minor_axis_length)\n",
    "        singleCalceinPatch_df['bbox_calcein'].iloc[idx].append(p.bbox)\n",
    "        singleCalceinPatch_df['max_calcein'].iloc[idx].append(p.max_intensity)\n",
    "        singleCalceinPatch_df['min_calcein'].iloc[idx].append(p.mean_intensity)\n",
    "        singleCalceinPatch_df['mean_calcein'].iloc[idx].append(p.min_intensity)\n"
   ]
  },
  {
   "cell_type": "code",
   "execution_count": 100,
   "metadata": {
    "scrolled": true
   },
   "outputs": [],
   "source": [
    "##median values of calcein patch properties\n",
    "singleCalceinPatch_df['areas_calcein_median']=singleCalceinPatch_df['areas_calcein'].apply(lambda x:np.median(x))\n",
    "singleCalceinPatch_df['eccentricity_calcein_median']=singleCalceinPatch_df['eccentricity_calcein'].apply(lambda x:np.median(x))\n",
    "singleCalceinPatch_df['eulernumber_calcein_median']=singleCalceinPatch_df['eulernumber_calcein'].apply(lambda x:np.median(x))\n",
    "singleCalceinPatch_df['extent_calcein_median']=singleCalceinPatch_df['extent_calcein'].apply(lambda x:np.median(x))\n",
    "singleCalceinPatch_df['perimeter_calcein_median']=singleCalceinPatch_df['perimeter_calcein'].apply(lambda x:np.median(x))\n",
    "singleCalceinPatch_df['solidity_calcein_median']=singleCalceinPatch_df['solidity_calcein'].apply(lambda x:np.median(x))\n",
    "#singleCalceinPatch_df['inertiatensor_calcein_median']=singleCalceinPatch_df['inertiatensor_calcein'].apply(lambda x:np.median(x))\n",
    "singleCalceinPatch_df['majoraxislength_calcein_median']=singleCalceinPatch_df['major_axis_length_calcein'].apply(lambda x:np.median(x))\n",
    "singleCalceinPatch_df['minoraxislength_calcein_median']=singleCalceinPatch_df['minor_axis_length_calcein'].apply(lambda x:np.median(x))\n",
    "#singleCalceinPatch_df['bbox_calcein_median']=singleCalceinPatch_df['bbox_calcein'].apply(lambda x:np.median(x))\n",
    "singleCalceinPatch_df['max_calcein_median']=singleCalceinPatch_df['max_calcein'].apply(lambda x:np.median(x))\n",
    "singleCalceinPatch_df['min_calcein_median']=singleCalceinPatch_df['min_calcein'].apply(lambda x:np.median(x))\n",
    "singleCalceinPatch_df['mean_calcein_median']=singleCalceinPatch_df['mean_calcein'].apply(lambda x:np.median(x))\n",
    "\n"
   ]
  },
  {
   "cell_type": "markdown",
   "metadata": {},
   "source": [
    "# calcein whole image features and median features/patch"
   ]
  },
  {
   "cell_type": "code",
   "execution_count": 101,
   "metadata": {},
   "outputs": [],
   "source": [
    "## whole image properties \n",
    "\n",
    "#new dataframe for whole image features\n",
    "imgProps_df=pd.DataFrame({'exp':img_df['exp_num'],'cond':img_df['cond'], 'cond_short':img_df['cond_short'],\n",
    "                          'Calcein':img_df['Calcein'],'calcein_bw':img_df['calcein_bw'],'brightfield':\n",
    "                          img_df['Brightfield'],'cellmask':img_df['CellMask'],'ssim_cm':img_df['ssim_cm'],\n",
    "                         'calcein_count': img_df['calcein_count']})\n",
    "                               \n",
    "##summary stats of whole image calcein channel\n",
    "imgProps_df['calcein_maxTotal']=imgProps_df['Calcein'].apply(lambda x: np.amax(x))\n",
    "imgProps_df['calcein_minTotal']=imgProps_df['Calcein'].apply(lambda x: np.amin(x))\n",
    "imgProps_df['calcein_meanTotal']=imgProps_df['Calcein'].apply(lambda x: np.mean(x))\n",
    "imgProps_df['calcein_medianTotal']=imgProps_df['Calcein'].apply(lambda x: np.median(x))\n",
    "imgProps_df['calcein_sdTotal']=imgProps_df['Calcein'].apply(lambda x: np.std(x))\n",
    "imgProps_df['calcein_areaTotal']=imgProps_df['calcein_bw'].apply(lambda bw:bw.sum())\n",
    "\n",
    "\n",
    "##median values of single calcein patch properties\n",
    "imgProps_df['calcein_singleareaMed']=singleCalceinPatch_df['areas_calcein_median']\n",
    "imgProps_df['calcein_eccentricityMed']=singleCalceinPatch_df['eccentricity_calcein_median']\n",
    "imgProps_df['calcein_eulerMed']=singleCalceinPatch_df['eulernumber_calcein_median']\n",
    "imgProps_df['calcein_extentMed']=singleCalceinPatch_df['extent_calcein_median']\n",
    "imgProps_df['calcein_perimeterMed']=singleCalceinPatch_df['perimeter_calcein_median']\n",
    "imgProps_df['calcein_solidityMed']=singleCalceinPatch_df['solidity_calcein_median']\n",
    "#imgProps_df['calcein_inertiaMed']=singleCalceinPatch_df['inertiatensor_calcein_median']\n",
    "imgProps_df['calcein_majoraxisMed']=singleCalceinPatch_df['majoraxislength_calcein_median']\n",
    "imgProps_df['calcein_minoraxiMed']=singleCalceinPatch_df['minoraxislength_calcein_median']\n",
    "#imgProps_df['calcein_bboxMed']=singleCalceinPatch_df['bbox_calcein_median']\n",
    "imgProps_df['calcein_maxintMed']=singleCalceinPatch_df['max_calcein_median']\n",
    "imgProps_df['calcein_minintMed']=singleCalceinPatch_df['min_calcein_median']\n",
    "imgProps_df['calcein_meanintMed']=singleCalceinPatch_df['mean_calcein_median']"
   ]
  },
  {
   "cell_type": "markdown",
   "metadata": {},
   "source": [
    "# whole image texture features"
   ]
  },
  {
   "cell_type": "code",
   "execution_count": 102,
   "metadata": {},
   "outputs": [],
   "source": [
    "##texture features of CellMask channel - whole image\n",
    "from skimage.feature import greycomatrix, greycoprops\n",
    "\n",
    "#greycomatrix\n",
    "imgProps_df['glcm_cellmask']=imgProps_df['cellmask'].apply(lambda glcm: greycomatrix(glcm,distances=[5],angles=[90],\n",
    "                                                                                          levels=256, symmetric=True))\n"
   ]
  },
  {
   "cell_type": "code",
   "execution_count": 103,
   "metadata": {},
   "outputs": [],
   "source": [
    "#greycoprops of cellmask whole image\n",
    "imgProps_df['contrast_cm']=imgProps_df['glcm_cellmask'].apply(lambda glcm: (greycoprops(glcm,'contrast'))[0][0])\n",
    "imgProps_df['dissimilarity_cm']=imgProps_df['glcm_cellmask'].apply(lambda glcm: (greycoprops(glcm,'dissimilarity'))[0][0])\n",
    "imgProps_df['ASM_cm']=imgProps_df['glcm_cellmask'].apply(lambda glcm: (greycoprops(glcm,'ASM'))[0][0])                                                         \n",
    "imgProps_df['energy_cm']=imgProps_df['glcm_cellmask'].apply(lambda glcm: (greycoprops(glcm,'energy'))[0][0])\n",
    "imgProps_df['correlation_cm']=imgProps_df['glcm_cellmask'].apply(lambda glcm: (greycoprops(glcm,'correlation'))[0][0])\n",
    "imgProps_df['homogeneity_cm']=imgProps_df['glcm_cellmask'].apply(lambda glcm: (greycoprops(glcm,'homogeneity'))[0][0])                                                               \n",
    "                                                           \n",
    "\n"
   ]
  },
  {
   "cell_type": "code",
   "execution_count": 104,
   "metadata": {},
   "outputs": [],
   "source": [
    "##texture features of calcein channel - whole image\n",
    "from skimage.feature import greycomatrix, greycoprops\n",
    "\n",
    "#greycomatrix\n",
    "imgProps_df['glcm_calcein']=imgProps_df['Calcein'].apply(lambda glcm: greycomatrix(glcm,distances=[5],angles=[90],\n",
    "                                                                                          levels=256, symmetric=True))\n",
    "\n",
    "imgProps_df['contrast_calcein']=imgProps_df['glcm_calcein'].apply(lambda glcm: (greycoprops(glcm,'contrast'))[0][0])\n",
    "imgProps_df['dissimilarity_calcein']=imgProps_df['glcm_calcein'].apply(lambda glcm: (greycoprops(glcm,'dissimilarity'))[0][0])\n",
    "imgProps_df['ASM_calcein']=imgProps_df['glcm_calcein'].apply(lambda glcm: (greycoprops(glcm,'ASM'))[0][0])                                                         \n",
    "imgProps_df['energy_calcein']=imgProps_df['glcm_calcein'].apply(lambda glcm: (greycoprops(glcm,'energy'))[0][0])\n",
    "imgProps_df['correlation_calcein']=imgProps_df['glcm_calcein'].apply(lambda glcm: (greycoprops(glcm,'correlation'))[0][0])\n",
    "imgProps_df['homogeneity_calcein']=imgProps_df['glcm_calcein'].apply(lambda glcm: (greycoprops(glcm,'homogeneity'))[0][0])                                                               \n",
    "                                                           \n",
    "\n",
    "\n"
   ]
  },
  {
   "cell_type": "markdown",
   "metadata": {},
   "source": [
    "# create one feature df and scale"
   ]
  },
  {
   "cell_type": "code",
   "execution_count": 105,
   "metadata": {},
   "outputs": [],
   "source": [
    "##fuse singleCell_df and imageProps_df\n",
    "singleCellMedian_df.reset_index(inplace=True)\n",
    "feature_df=pd.concat([singleCellMedian_df,imgProps_df.drop(['cond'],axis=1)],axis=1)\n",
    "feature_df.drop(['Calcein', 'calcein_bw', 'brightfield', 'cellmask','glcm_cellmask','glcm_calcein'],axis=1,inplace=True)"
   ]
  },
  {
   "cell_type": "code",
   "execution_count": 106,
   "metadata": {},
   "outputs": [
    {
     "name": "stderr",
     "output_type": "stream",
     "text": [
      "/Users/anna/opt/anaconda3/lib/python3.7/site-packages/sklearn/preprocessing/data.py:355: RuntimeWarning: All-NaN slice encountered\n",
      "  data_min = np.nanmin(X, axis=0)\n",
      "/Users/anna/opt/anaconda3/lib/python3.7/site-packages/sklearn/preprocessing/data.py:356: RuntimeWarning: All-NaN slice encountered\n",
      "  data_max = np.nanmax(X, axis=0)\n"
     ]
    }
   ],
   "source": [
    "##scaled median features\n",
    "from sklearn.preprocessing import MinMaxScaler\n",
    "\n",
    "\n",
    "scaler = MinMaxScaler(feature_range=(0,1),copy=False)\n",
    "scaler.fit(feature_df.drop(['cond','exp','cond_short'],axis=1))\n",
    "scaled_vectors=scaler.transform(feature_df.drop(['cond','exp','cond_short'],axis=1))\n",
    "featuresScaled_df=pd.DataFrame(scaled_vectors,columns=feature_df.drop(['cond','exp','cond_short'],axis=1).columns)\n",
    "featuresScaled_df['cond']=feature_df['cond']\n",
    "featuresScaled_df['cond_short']=feature_df['cond_short']\n",
    "featuresScaled_df.set_index('cond',inplace=True)\n",
    "\n",
    "featuresScaled_df.to_excel('medianFeaturesScaled_{}.xlsx'.format(img_df['exp_num'].iloc[0]))"
   ]
  },
  {
   "cell_type": "markdown",
   "metadata": {},
   "source": [
    "# visualization trials"
   ]
  },
  {
   "cell_type": "code",
   "execution_count": 107,
   "metadata": {},
   "outputs": [
    {
     "data": {
      "image/png": "[encoded data removed]",
      "text/plain": [
       "<Figure size 720x720 with 4 Axes>"
      ]
     },
     "metadata": {
      "needs_background": "light"
     },
     "output_type": "display_data"
    }
   ],
   "source": [
    "## visualize feature clustering v1\n",
    "rcGraph = {\"axes.spines.left\" : True,\n",
    "      \"axes.spines.right\" : True,\n",
    "      \"axes.spines.bottom\" : True,\n",
    "      \"axes.spines.top\" : True,\n",
    "      \"xtick.bottom\" : True,\n",
    "      \"xtick.labelbottom\" : True,\n",
    "      \"ytick.labelleft\" : True,\n",
    "      \"ytick.left\" : True}\n",
    "plt.rcParams.update(rcGraph)\n",
    "\n",
    "fig=sns.clustermap(featuresScaled_df.drop(['minor_axis_length_hoechst','bbox_hoechst','cond_short'],axis=1), \n",
    "                   yticklabels= featuresScaled_df['cond_short'])\n",
    "\n",
    "#plt.savefig('clustermap_v1_{}.png'.format(img_df['exp_num'].iloc[0][:-5]),bbox_inches=\"tight\")"
   ]
  },
  {
   "cell_type": "code",
   "execution_count": 108,
   "metadata": {},
   "outputs": [
    {
     "data": {
      "image/png": "[encoded data removed]",
      "text/plain": [
       "<Figure size 864x864 with 4 Axes>"
      ]
     },
     "metadata": {
      "needs_background": "light"
     },
     "output_type": "display_data"
    }
   ],
   "source": [
    "\n",
    "##visualize primary features: count, dead cell count, single cell area, solidity\n",
    "\n",
    "fig,((ax1,ax2),(ax3,ax4))=plt.subplots(2,2,figsize=(12,12))\n",
    "sns.swarmplot(y=\"calcein_count\", x=\"cond_short\", \n",
    "                 data=featuresScaled_df,color='gray',ax=ax1,palette='viridis',size=6)\n",
    "sns.swarmplot(y=\"ssim_cm\",x=\"cond_short\",data=featuresScaled_df, color='gray',palette='viridis',ax=ax2,size=6)\n",
    "sns.swarmplot(y=\"correlation_cm\", x=\"cond_short\", data=featuresScaled_df,color='gray',palette='viridis',ax=ax3,size=6)\n",
    "sns.swarmplot(y=\"solidity\", x=\"cond_short\",data=featuresScaled_df,color='gray',palette='viridis',ax=ax4,size=6)\n",
    "fig.tight_layout()"
   ]
  },
  {
   "cell_type": "code",
   "execution_count": 83,
   "metadata": {},
   "outputs": [],
   "source": [
    "## mean/cond for single experiment\n",
    "featuresScaled_df.head()\n",
    "featuresScaled_mean=featuresScaled_df.groupby('cond_short').mean()\n",
    "featuresScaled_mean.to_excel('FeaturesScaled_Mean_exp{}.xlsx'.format('CaPrange01'))"
   ]
  },
  {
   "cell_type": "code",
   "execution_count": 134,
   "metadata": {},
   "outputs": [
    {
     "data": {
      "text/html": [
       "<div>\n",
       "<style scoped>\n",
       "    .dataframe tbody tr th:only-of-type {\n",
       "        vertical-align: middle;\n",
       "    }\n",
       "\n",
       "    .dataframe tbody tr th {\n",
       "        vertical-align: top;\n",
       "    }\n",
       "\n",
       "    .dataframe thead th {\n",
       "        text-align: right;\n",
       "    }\n",
       "</style>\n",
       "<table border=\"1\" class=\"dataframe\">\n",
       "  <thead>\n",
       "    <tr style=\"text-align: right;\">\n",
       "      <th></th>\n",
       "      <th>cond_short</th>\n",
       "      <th>nuclei_count</th>\n",
       "      <th>ethd_count</th>\n",
       "      <th>solidity</th>\n",
       "    </tr>\n",
       "  </thead>\n",
       "  <tbody>\n",
       "    <tr>\n",
       "      <td>0</td>\n",
       "      <td>c00</td>\n",
       "      <td>0.272908</td>\n",
       "      <td>0.029412</td>\n",
       "      <td>0.709902</td>\n",
       "    </tr>\n",
       "    <tr>\n",
       "      <td>1</td>\n",
       "      <td>c00</td>\n",
       "      <td>0.780876</td>\n",
       "      <td>0.029412</td>\n",
       "      <td>0.933333</td>\n",
       "    </tr>\n",
       "    <tr>\n",
       "      <td>2</td>\n",
       "      <td>c00</td>\n",
       "      <td>0.729084</td>\n",
       "      <td>0.029412</td>\n",
       "      <td>0.998286</td>\n",
       "    </tr>\n",
       "    <tr>\n",
       "      <td>3</td>\n",
       "      <td>c00</td>\n",
       "      <td>0.756972</td>\n",
       "      <td>0.029412</td>\n",
       "      <td>0.928219</td>\n",
       "    </tr>\n",
       "    <tr>\n",
       "      <td>4</td>\n",
       "      <td>c00</td>\n",
       "      <td>0.980080</td>\n",
       "      <td>0.000000</td>\n",
       "      <td>0.866405</td>\n",
       "    </tr>\n",
       "    <tr>\n",
       "      <td>5</td>\n",
       "      <td>c00</td>\n",
       "      <td>0.928287</td>\n",
       "      <td>0.029412</td>\n",
       "      <td>0.878557</td>\n",
       "    </tr>\n",
       "    <tr>\n",
       "      <td>6</td>\n",
       "      <td>c00</td>\n",
       "      <td>0.619522</td>\n",
       "      <td>0.000000</td>\n",
       "      <td>0.777570</td>\n",
       "    </tr>\n",
       "    <tr>\n",
       "      <td>7</td>\n",
       "      <td>c00</td>\n",
       "      <td>0.737052</td>\n",
       "      <td>0.000000</td>\n",
       "      <td>0.852057</td>\n",
       "    </tr>\n",
       "    <tr>\n",
       "      <td>8</td>\n",
       "      <td>c00</td>\n",
       "      <td>0.735060</td>\n",
       "      <td>0.058824</td>\n",
       "      <td>0.805872</td>\n",
       "    </tr>\n",
       "    <tr>\n",
       "      <td>9</td>\n",
       "      <td>c01</td>\n",
       "      <td>0.818725</td>\n",
       "      <td>0.029412</td>\n",
       "      <td>0.800967</td>\n",
       "    </tr>\n",
       "    <tr>\n",
       "      <td>10</td>\n",
       "      <td>c01</td>\n",
       "      <td>0.719124</td>\n",
       "      <td>0.147059</td>\n",
       "      <td>0.809099</td>\n",
       "    </tr>\n",
       "    <tr>\n",
       "      <td>11</td>\n",
       "      <td>c01</td>\n",
       "      <td>0.641434</td>\n",
       "      <td>0.058824</td>\n",
       "      <td>0.719610</td>\n",
       "    </tr>\n",
       "    <tr>\n",
       "      <td>12</td>\n",
       "      <td>c01</td>\n",
       "      <td>0.647410</td>\n",
       "      <td>0.000000</td>\n",
       "      <td>0.750493</td>\n",
       "    </tr>\n",
       "    <tr>\n",
       "      <td>13</td>\n",
       "      <td>c01</td>\n",
       "      <td>0.613546</td>\n",
       "      <td>0.029412</td>\n",
       "      <td>0.796763</td>\n",
       "    </tr>\n",
       "    <tr>\n",
       "      <td>14</td>\n",
       "      <td>c01</td>\n",
       "      <td>0.892430</td>\n",
       "      <td>0.000000</td>\n",
       "      <td>0.730295</td>\n",
       "    </tr>\n",
       "    <tr>\n",
       "      <td>15</td>\n",
       "      <td>c01</td>\n",
       "      <td>0.932271</td>\n",
       "      <td>0.000000</td>\n",
       "      <td>1.000000</td>\n",
       "    </tr>\n",
       "    <tr>\n",
       "      <td>16</td>\n",
       "      <td>c01</td>\n",
       "      <td>0.711155</td>\n",
       "      <td>0.000000</td>\n",
       "      <td>0.707015</td>\n",
       "    </tr>\n",
       "    <tr>\n",
       "      <td>17</td>\n",
       "      <td>c01</td>\n",
       "      <td>1.000000</td>\n",
       "      <td>0.000000</td>\n",
       "      <td>0.959097</td>\n",
       "    </tr>\n",
       "    <tr>\n",
       "      <td>18</td>\n",
       "      <td>c02</td>\n",
       "      <td>0.478088</td>\n",
       "      <td>0.235294</td>\n",
       "      <td>0.568184</td>\n",
       "    </tr>\n",
       "    <tr>\n",
       "      <td>19</td>\n",
       "      <td>c02</td>\n",
       "      <td>0.336653</td>\n",
       "      <td>0.323529</td>\n",
       "      <td>0.520005</td>\n",
       "    </tr>\n",
       "    <tr>\n",
       "      <td>20</td>\n",
       "      <td>c02</td>\n",
       "      <td>0.492032</td>\n",
       "      <td>0.558824</td>\n",
       "      <td>0.633318</td>\n",
       "    </tr>\n",
       "    <tr>\n",
       "      <td>21</td>\n",
       "      <td>c02</td>\n",
       "      <td>0.418327</td>\n",
       "      <td>0.058824</td>\n",
       "      <td>0.640071</td>\n",
       "    </tr>\n",
       "    <tr>\n",
       "      <td>22</td>\n",
       "      <td>c02</td>\n",
       "      <td>0.398406</td>\n",
       "      <td>0.117647</td>\n",
       "      <td>0.717668</td>\n",
       "    </tr>\n",
       "    <tr>\n",
       "      <td>23</td>\n",
       "      <td>c02</td>\n",
       "      <td>0.390438</td>\n",
       "      <td>0.088235</td>\n",
       "      <td>0.764912</td>\n",
       "    </tr>\n",
       "    <tr>\n",
       "      <td>24</td>\n",
       "      <td>c02</td>\n",
       "      <td>0.444223</td>\n",
       "      <td>0.029412</td>\n",
       "      <td>0.799643</td>\n",
       "    </tr>\n",
       "    <tr>\n",
       "      <td>25</td>\n",
       "      <td>c02</td>\n",
       "      <td>0.511952</td>\n",
       "      <td>0.088235</td>\n",
       "      <td>0.588554</td>\n",
       "    </tr>\n",
       "    <tr>\n",
       "      <td>26</td>\n",
       "      <td>c02</td>\n",
       "      <td>0.328685</td>\n",
       "      <td>0.147059</td>\n",
       "      <td>0.597343</td>\n",
       "    </tr>\n",
       "    <tr>\n",
       "      <td>27</td>\n",
       "      <td>c03</td>\n",
       "      <td>0.464143</td>\n",
       "      <td>0.823529</td>\n",
       "      <td>0.529775</td>\n",
       "    </tr>\n",
       "    <tr>\n",
       "      <td>28</td>\n",
       "      <td>c03</td>\n",
       "      <td>0.559761</td>\n",
       "      <td>1.000000</td>\n",
       "      <td>0.519259</td>\n",
       "    </tr>\n",
       "    <tr>\n",
       "      <td>29</td>\n",
       "      <td>c03</td>\n",
       "      <td>0.531873</td>\n",
       "      <td>0.764706</td>\n",
       "      <td>0.597912</td>\n",
       "    </tr>\n",
       "    <tr>\n",
       "      <td>30</td>\n",
       "      <td>c03</td>\n",
       "      <td>0.372510</td>\n",
       "      <td>0.411765</td>\n",
       "      <td>0.826893</td>\n",
       "    </tr>\n",
       "    <tr>\n",
       "      <td>31</td>\n",
       "      <td>c03</td>\n",
       "      <td>0.260956</td>\n",
       "      <td>0.705882</td>\n",
       "      <td>0.542035</td>\n",
       "    </tr>\n",
       "    <tr>\n",
       "      <td>32</td>\n",
       "      <td>c03</td>\n",
       "      <td>0.225100</td>\n",
       "      <td>0.529412</td>\n",
       "      <td>0.759872</td>\n",
       "    </tr>\n",
       "    <tr>\n",
       "      <td>33</td>\n",
       "      <td>c03</td>\n",
       "      <td>0.025896</td>\n",
       "      <td>0.205882</td>\n",
       "      <td>0.565699</td>\n",
       "    </tr>\n",
       "    <tr>\n",
       "      <td>34</td>\n",
       "      <td>c03</td>\n",
       "      <td>0.091633</td>\n",
       "      <td>1.000000</td>\n",
       "      <td>0.351093</td>\n",
       "    </tr>\n",
       "    <tr>\n",
       "      <td>35</td>\n",
       "      <td>c03</td>\n",
       "      <td>0.047809</td>\n",
       "      <td>0.323529</td>\n",
       "      <td>0.717701</td>\n",
       "    </tr>\n",
       "    <tr>\n",
       "      <td>36</td>\n",
       "      <td>c04</td>\n",
       "      <td>0.193227</td>\n",
       "      <td>0.676471</td>\n",
       "      <td>0.419472</td>\n",
       "    </tr>\n",
       "    <tr>\n",
       "      <td>37</td>\n",
       "      <td>c04</td>\n",
       "      <td>0.195219</td>\n",
       "      <td>0.705882</td>\n",
       "      <td>0.473051</td>\n",
       "    </tr>\n",
       "    <tr>\n",
       "      <td>38</td>\n",
       "      <td>c04</td>\n",
       "      <td>0.292829</td>\n",
       "      <td>0.852941</td>\n",
       "      <td>0.494990</td>\n",
       "    </tr>\n",
       "    <tr>\n",
       "      <td>39</td>\n",
       "      <td>c04</td>\n",
       "      <td>0.107570</td>\n",
       "      <td>0.794118</td>\n",
       "      <td>0.225674</td>\n",
       "    </tr>\n",
       "    <tr>\n",
       "      <td>40</td>\n",
       "      <td>c04</td>\n",
       "      <td>0.133466</td>\n",
       "      <td>0.764706</td>\n",
       "      <td>0.236470</td>\n",
       "    </tr>\n",
       "    <tr>\n",
       "      <td>41</td>\n",
       "      <td>c04</td>\n",
       "      <td>0.121514</td>\n",
       "      <td>0.852941</td>\n",
       "      <td>0.142361</td>\n",
       "    </tr>\n",
       "    <tr>\n",
       "      <td>42</td>\n",
       "      <td>c04</td>\n",
       "      <td>0.000000</td>\n",
       "      <td>0.352941</td>\n",
       "      <td>0.000000</td>\n",
       "    </tr>\n",
       "    <tr>\n",
       "      <td>43</td>\n",
       "      <td>c04</td>\n",
       "      <td>0.113546</td>\n",
       "      <td>0.470588</td>\n",
       "      <td>0.439699</td>\n",
       "    </tr>\n",
       "    <tr>\n",
       "      <td>44</td>\n",
       "      <td>c04</td>\n",
       "      <td>0.009960</td>\n",
       "      <td>0.147059</td>\n",
       "      <td>0.667820</td>\n",
       "    </tr>\n",
       "  </tbody>\n",
       "</table>\n",
       "</div>"
      ],
      "text/plain": [
       "   cond_short  nuclei_count  ethd_count  solidity\n",
       "0         c00      0.272908    0.029412  0.709902\n",
       "1         c00      0.780876    0.029412  0.933333\n",
       "2         c00      0.729084    0.029412  0.998286\n",
       "3         c00      0.756972    0.029412  0.928219\n",
       "4         c00      0.980080    0.000000  0.866405\n",
       "5         c00      0.928287    0.029412  0.878557\n",
       "6         c00      0.619522    0.000000  0.777570\n",
       "7         c00      0.737052    0.000000  0.852057\n",
       "8         c00      0.735060    0.058824  0.805872\n",
       "9         c01      0.818725    0.029412  0.800967\n",
       "10        c01      0.719124    0.147059  0.809099\n",
       "11        c01      0.641434    0.058824  0.719610\n",
       "12        c01      0.647410    0.000000  0.750493\n",
       "13        c01      0.613546    0.029412  0.796763\n",
       "14        c01      0.892430    0.000000  0.730295\n",
       "15        c01      0.932271    0.000000  1.000000\n",
       "16        c01      0.711155    0.000000  0.707015\n",
       "17        c01      1.000000    0.000000  0.959097\n",
       "18        c02      0.478088    0.235294  0.568184\n",
       "19        c02      0.336653    0.323529  0.520005\n",
       "20        c02      0.492032    0.558824  0.633318\n",
       "21        c02      0.418327    0.058824  0.640071\n",
       "22        c02      0.398406    0.117647  0.717668\n",
       "23        c02      0.390438    0.088235  0.764912\n",
       "24        c02      0.444223    0.029412  0.799643\n",
       "25        c02      0.511952    0.088235  0.588554\n",
       "26        c02      0.328685    0.147059  0.597343\n",
       "27        c03      0.464143    0.823529  0.529775\n",
       "28        c03      0.559761    1.000000  0.519259\n",
       "29        c03      0.531873    0.764706  0.597912\n",
       "30        c03      0.372510    0.411765  0.826893\n",
       "31        c03      0.260956    0.705882  0.542035\n",
       "32        c03      0.225100    0.529412  0.759872\n",
       "33        c03      0.025896    0.205882  0.565699\n",
       "34        c03      0.091633    1.000000  0.351093\n",
       "35        c03      0.047809    0.323529  0.717701\n",
       "36        c04      0.193227    0.676471  0.419472\n",
       "37        c04      0.195219    0.705882  0.473051\n",
       "38        c04      0.292829    0.852941  0.494990\n",
       "39        c04      0.107570    0.794118  0.225674\n",
       "40        c04      0.133466    0.764706  0.236470\n",
       "41        c04      0.121514    0.852941  0.142361\n",
       "42        c04      0.000000    0.352941  0.000000\n",
       "43        c04      0.113546    0.470588  0.439699\n",
       "44        c04      0.009960    0.147059  0.667820"
      ]
     },
     "execution_count": 134,
     "metadata": {},
     "output_type": "execute_result"
    }
   ],
   "source": [
    "primaryFeat_df=featuresScaled_df[['cond_short','nuclei_count','ethd_count','solidity']]\n",
    "primaryFeat_df2=primaryFeat_df.reset_index()\n",
    "primaryFeat_df2.drop('cond',axis=1,inplace=True)\n",
    "\n",
    "#primaryFeat_df2.groupby('cond_short').mean().T\n",
    "primaryFeat_df2"
   ]
  },
  {
   "cell_type": "code",
   "execution_count": 88,
   "metadata": {},
   "outputs": [
    {
     "data": {
      "image/png": "[encoded data removed]",
      "text/plain": [
       "<Figure size 432x288 with 2 Axes>"
      ]
     },
     "metadata": {
      "needs_background": "light"
     },
     "output_type": "display_data"
    }
   ],
   "source": [
    "# Create two subplots and unpack the output array immediately\n",
    "\n",
    "\n",
    "sns.swarmplot(y=\"ethd_count\",x=\"cond_short\",data=featuresScaled_df, ax=ax2,color='b')"
   ]
  },
  {
   "cell_type": "code",
   "execution_count": 41,
   "metadata": {},
   "outputs": [
    {
     "data": {
      "image/png": "[encoded data removed]",
      "text/plain": [
       "<Figure size 432x288 with 1 Axes>"
      ]
     },
     "metadata": {
      "needs_background": "light"
     },
     "output_type": "display_data"
    }
   ],
   "source": [
    "fig=sns.barplot(x='cond_short',y='nuclei_count',data=img_df,ci='sd',color='gray')"
   ]
  },
  {
   "cell_type": "code",
   "execution_count": 72,
   "metadata": {},
   "outputs": [
    {
     "data": {
      "image/png": "[encoded data removed]",
      "text/plain": [
       "<Figure size 432x288 with 1 Axes>"
      ]
     },
     "metadata": {
      "needs_background": "light"
     },
     "output_type": "display_data"
    }
   ],
   "source": [
    "singleCellMedian_df['cond_short']=np.empty((len(singleCellMedian_df), 0)).tolist()\n",
    "singleCellMedian_df['cond_short']=(pd.Series(singleCellMedian_df.index)).values\n",
    "singleCellMedian_df['cond_short']=singleCellMedian_df['cond_short'].apply(lambda val: val[:4])\n",
    "\n",
    "\n",
    "fig=sns.barplot(x=singleCellMedian_df.index,y='areas_hoechst',data=singleCellMedian_df,ci='sd',color='gray')"
   ]
  }
 ],
 "metadata": {
  "kernelspec": {
   "display_name": "Python 3",
   "language": "python",
   "name": "python3"
  },
  "language_info": {
   "codemirror_mode": {
    "name": "ipython",
    "version": 3
   },
   "file_extension": ".py",
   "mimetype": "text/x-python",
   "name": "python",
   "nbconvert_exporter": "python",
   "pygments_lexer": "ipython3",
   "version": "3.7.4"
  }
 },
 "nbformat": 4,
 "nbformat_minor": 2
}
